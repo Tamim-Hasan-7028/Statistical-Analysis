{
  "nbformat": 4,
  "nbformat_minor": 0,
  "metadata": {
    "colab": {
      "provenance": []
    },
    "kernelspec": {
      "name": "python3",
      "display_name": "Python 3"
    },
    "language_info": {
      "name": "python"
    }
  },
  "cells": [
    {
      "cell_type": "markdown",
      "source": [
        "## **Uniform, Binomial, Poisson, Normal, Exponential Distribution.**\n",
        "\n",
        "\n",
        "---\n",
        "\n"
      ],
      "metadata": {
        "id": "PItCoBuDs6sG"
      }
    },
    {
      "cell_type": "code",
      "execution_count": 45,
      "metadata": {
        "id": "V6w-VHbEsycq"
      },
      "outputs": [],
      "source": [
        "import pandas as pd\n",
        "import numpy as np\n",
        "import matplotlib.pyplot as plt\n",
        "import scipy.stats as stats"
      ]
    },
    {
      "cell_type": "markdown",
      "source": [
        "# **Uniform Distribution (Discrete/Continuous)**\n",
        "\n",
        "\n",
        "---\n",
        "\n",
        "\n",
        "\n",
        "### **Create random numbers** \n",
        "\n",
        "    stats.uniform.rvs(size=100,loc=0, scale=10)\n",
        "\n",
        "It will generate 100 random numbers starting from 0 to 10.\n",
        "\n",
        "\n",
        "---\n",
        "\n",
        "\n",
        "### **CDF, SF, PDF, PPF**\n",
        "\n",
        "\n",
        "---\n",
        "\n",
        "\n",
        "    stats.uniform.cdf(x=5.0, loc=0, scale=10)\n",
        "\n",
        "It will give the probability of get selected between 0 to 5.\n",
        "\n",
        "\n",
        "---\n",
        "\n",
        "\n",
        "    stats.uniform.sf(x=5.0, loc=0, scale=10)\n",
        "\n",
        "It will give the probability of get selected greater than 5.\n",
        "\n",
        "\n",
        "---\n",
        "\n",
        "\n",
        "    stats.uniform.pdf(x=5.0, loc=0, scale=10)\n",
        "\n",
        "It will give the probability of exact 5.\n",
        "\n",
        "\n",
        "---\n",
        "\n",
        "\n",
        "    stats.uniform.ppf(q=0.3, loc=0, scale=10)\n",
        "\n",
        "It will give the value of 30% probability.\n",
        "\n"
      ],
      "metadata": {
        "id": "I0XYZgoCvQBg"
      }
    },
    {
      "cell_type": "markdown",
      "source": [
        "## **Example**\n",
        "\n",
        "\n",
        "---\n",
        "\n",
        "\n",
        "The sales software used at your company is set to automatically back itself up, but no one knows exactly what time the back-ups happen. It is known, however, that back-ups happen exactly every 30 minutes. Amir comes back from sales meetings at random times to update the data on the client he just met with. He wants to know how long he'll have to wait for his newly-entered data to get backed up. Use your new knowledge of continuous uniform distributions to model this situation and answer Amir's questions.\n",
        "\n",
        "min_time = 0\n",
        "\n",
        "max_time = 30"
      ],
      "metadata": {
        "id": "fsae-UDa0boX"
      }
    },
    {
      "cell_type": "markdown",
      "source": [
        "1) Calculate the probability that Amir has to wait less than 5 minutes.\n",
        "\n",
        "2) Calculate the probability that Amir has to wait more than 5 minutes.\n",
        "\n",
        "3) Calculate the probability that Amir has to wait between 10 and 20 minutes.\n",
        "\n",
        "4) Calculate the probability that Amir has to wait exactly 5 minutes.\n",
        "\n",
        "5) Calculate the value of 70% waiting time of Amir.\n",
        "\n",
        "6) Set the random seed to 334. Generate 100000 wait times from the continuous uniform distribution that models Amir's wait time. Create a histogram of the simulated wait times and show the plot."
      ],
      "metadata": {
        "id": "gaBEGw0P0q9O"
      }
    },
    {
      "cell_type": "code",
      "source": [
        "#1\n",
        "stats.uniform.cdf(5,0,30)"
      ],
      "metadata": {
        "id": "TdKffJLA0Ktd",
        "colab": {
          "base_uri": "https://localhost:8080/"
        },
        "outputId": "a52ee776-0d7b-48ea-f3a5-91b35f260897"
      },
      "execution_count": 46,
      "outputs": [
        {
          "output_type": "execute_result",
          "data": {
            "text/plain": [
              "0.16666666666666666"
            ]
          },
          "metadata": {},
          "execution_count": 46
        }
      ]
    },
    {
      "cell_type": "code",
      "source": [
        "#2\n",
        "stats.uniform.sf(5,0,30)"
      ],
      "metadata": {
        "colab": {
          "base_uri": "https://localhost:8080/"
        },
        "id": "pkIQtCzlQcZ5",
        "outputId": "25981d3c-76a5-45c3-8a57-f01b4255eb7f"
      },
      "execution_count": 47,
      "outputs": [
        {
          "output_type": "execute_result",
          "data": {
            "text/plain": [
              "0.8333333333333334"
            ]
          },
          "metadata": {},
          "execution_count": 47
        }
      ]
    },
    {
      "cell_type": "code",
      "source": [
        "#3\n",
        "stats.uniform.cdf(30,0,30)-stats.uniform.cdf(20,0,30)"
      ],
      "metadata": {
        "colab": {
          "base_uri": "https://localhost:8080/"
        },
        "id": "ftNv732NW0mi",
        "outputId": "c10e24d6-b753-4916-eb9a-6ba8626c0160"
      },
      "execution_count": 48,
      "outputs": [
        {
          "output_type": "execute_result",
          "data": {
            "text/plain": [
              "0.33333333333333337"
            ]
          },
          "metadata": {},
          "execution_count": 48
        }
      ]
    },
    {
      "cell_type": "code",
      "source": [
        "#4\n",
        "stats.uniform.pdf(5,0,30)"
      ],
      "metadata": {
        "colab": {
          "base_uri": "https://localhost:8080/"
        },
        "id": "4ZYi76rHfhUN",
        "outputId": "954c48b6-724c-4e41-b5d1-b9620c3386f2"
      },
      "execution_count": 49,
      "outputs": [
        {
          "output_type": "execute_result",
          "data": {
            "text/plain": [
              "0.03333333333333333"
            ]
          },
          "metadata": {},
          "execution_count": 49
        }
      ]
    },
    {
      "cell_type": "code",
      "source": [
        "#5\n",
        "stats.uniform.ppf(.7,0,30)"
      ],
      "metadata": {
        "colab": {
          "base_uri": "https://localhost:8080/"
        },
        "id": "LDTZsdE_iMT-",
        "outputId": "32c75991-5e17-49b5-b6ad-9353f5dac115"
      },
      "execution_count": 50,
      "outputs": [
        {
          "output_type": "execute_result",
          "data": {
            "text/plain": [
              "21.0"
            ]
          },
          "metadata": {},
          "execution_count": 50
        }
      ]
    },
    {
      "cell_type": "code",
      "source": [
        "#6\n",
        "np.random.seed(334)\n",
        "uniform=stats.uniform.rvs(0,30,size=100000)\n",
        "pd.DataFrame(uniform).plot(kind='density')\n",
        "plt.show()"
      ],
      "metadata": {
        "colab": {
          "base_uri": "https://localhost:8080/",
          "height": 266
        },
        "id": "yM_VHn8BigsU",
        "outputId": "20a6535f-bade-483d-8699-272fd510aee9"
      },
      "execution_count": 51,
      "outputs": [
        {
          "output_type": "display_data",
          "data": {
            "text/plain": [
              "<Figure size 432x288 with 1 Axes>"
            ],
            "image/png": "[encoded data removed]"
          },
          "metadata": {
            "needs_background": "light"
          }
        }
      ]
    },
    {
      "cell_type": "code",
      "source": [
        "plt.hist(uniform)\n",
        "plt.show()"
      ],
      "metadata": {
        "colab": {
          "base_uri": "https://localhost:8080/",
          "height": 265
        },
        "id": "XvjeGvGBlab4",
        "outputId": "ee90a176-497a-43e8-c03a-b4db9a37a605"
      },
      "execution_count": 52,
      "outputs": [
        {
          "output_type": "display_data",
          "data": {
            "text/plain": [
              "<Figure size 432x288 with 1 Axes>"
            ],
            "image/png": "[encoded data removed]"
          },
          "metadata": {
            "needs_background": "light"
          }
        }
      ]
    },
    {
      "cell_type": "markdown",
      "source": [
        "# **Binomial Distribution (Discrete)**\n",
        "\n",
        "\n",
        "---\n",
        "\n",
        "### **Create random numbers** \n",
        "\n",
        "    coin=stats.binom.rvs(size=10000 # number of events\n",
        "          ,n=10 #number of trials in a single event\n",
        "          ,p=0.5 #probability of success (say getting heads)\n",
        "         )\n",
        "\n",
        "It will generate 10000 number of events where number of trial is 10 (10 coins tossed at a single event) and the probability of success in every trial is 0.5\n",
        "\n",
        "\n",
        "---\n",
        "\n",
        "\n",
        "### **CDF, SF, PMF**\n",
        "\n",
        "\n",
        "---\n",
        "\n",
        "\n",
        "    stats.binom.cdf(x=5.0, n=10, p=.5)\n",
        "\n",
        "It will give the probability of 5 or fewer heads in 10 tosses in a single event.\n",
        "\n",
        "(head is considered as success)\n",
        "\n",
        "\n",
        "---\n",
        "\n",
        "\n",
        "    stats.binom.sf(x=5.0, n=10, p=.5)\n",
        "\n",
        "It will give the probability of more than 5 heads in 10 tosses in a single event.\n",
        "\n",
        "\n",
        "---\n",
        "\n",
        "\n",
        "    stats.binom.pmf(x=5.0, n=10, p=.5)\n",
        "\n",
        "It will give the probability of exact 5 heads in 10 tosses in a single event.\n",
        "\n"
      ],
      "metadata": {
        "id": "OkAzGr4mm-kN"
      }
    },
    {
      "cell_type": "markdown",
      "source": [
        "## **Example**\n",
        "\n",
        "\n",
        "---\n",
        "\n",
        "1) set the random seed to 10. \n",
        "\n",
        "Simulate 10000 numbers of event for 100 trials of coins at a single event.\n",
        "Make plots for it.\n",
        "\n",
        "2) What's the probability that Amir closes all 3 deals in a week at 30%?\n",
        "\n",
        "What's the probability that Amir closes 1 or fewer deals in a week at 30%?\n",
        "\n",
        "What's the probability that Amir closes more than 1 deal at 30%?"
      ],
      "metadata": {
        "id": "LBdw9wShPP1t"
      }
    },
    {
      "cell_type": "code",
      "source": [
        "#1\n",
        "np.random.seed(10)\n",
        "s1=stats.binom.rvs(size=10000,n=100,p=.5)\n",
        "pd.DataFrame(s1).plot(kind='hist')\n",
        "plt.show()"
      ],
      "metadata": {
        "colab": {
          "base_uri": "https://localhost:8080/",
          "height": 265
        },
        "id": "3PCP92ZsNnWJ",
        "outputId": "fdb35a19-4939-4d1a-ea37-4de6e07c1103"
      },
      "execution_count": 53,
      "outputs": [
        {
          "output_type": "display_data",
          "data": {
            "text/plain": [
              "<Figure size 432x288 with 1 Axes>"
            ],
            "image/png": "[encoded data removed]"
          },
          "metadata": {
            "needs_background": "light"
          }
        }
      ]
    },
    {
      "cell_type": "markdown",
      "source": [
        "The shape of binomial distribution depend on p and n. If p=q, the distribution will be symmetrical. If p != q, then it will be asymmetrical. When p < q, the distribution will be positively skewed. When p>q, this will be negatively skewed. As the value of n increases, the distribution will become less and less skewed."
      ],
      "metadata": {
        "id": "dLYwA2kXVgPI"
      }
    },
    {
      "cell_type": "code",
      "source": [
        "#2\n",
        "stats.binom.pmf(3,3,.3)"
      ],
      "metadata": {
        "colab": {
          "base_uri": "https://localhost:8080/"
        },
        "id": "_bBXPkvCYGQY",
        "outputId": "e9e19027-4fce-4af9-99de-964582f8f1dd"
      },
      "execution_count": 54,
      "outputs": [
        {
          "output_type": "execute_result",
          "data": {
            "text/plain": [
              "0.026999999999999996"
            ]
          },
          "metadata": {},
          "execution_count": 54
        }
      ]
    },
    {
      "cell_type": "code",
      "source": [
        "stats.binom.cdf(1,3,.3)"
      ],
      "metadata": {
        "colab": {
          "base_uri": "https://localhost:8080/"
        },
        "id": "eZHz5ZwHbLGx",
        "outputId": "f244953a-b161-4a83-ae82-be6b1e7ccdbf"
      },
      "execution_count": 55,
      "outputs": [
        {
          "output_type": "execute_result",
          "data": {
            "text/plain": [
              "0.784"
            ]
          },
          "metadata": {},
          "execution_count": 55
        }
      ]
    },
    {
      "cell_type": "code",
      "source": [
        "stats.binom.sf(1,3,.3)"
      ],
      "metadata": {
        "colab": {
          "base_uri": "https://localhost:8080/"
        },
        "id": "xiY5T18dbR-G",
        "outputId": "0f0e385b-e90b-43fc-b943-8b4b0106ee74"
      },
      "execution_count": 56,
      "outputs": [
        {
          "output_type": "execute_result",
          "data": {
            "text/plain": [
              "0.21599999999999994"
            ]
          },
          "metadata": {},
          "execution_count": 56
        }
      ]
    },
    {
      "cell_type": "markdown",
      "source": [
        "### **How many sales will be won? (E=np)**\n",
        "\n",
        "Now Amir wants to know how many deals he can expect to close each week if his win rate changes. Luckily, you can use your binomial distribution knowledge to help him calculate the expected value in different situations. The expected value of a binomial distribution can be calculated by n*p"
      ],
      "metadata": {
        "id": "aJiHOnupbw9Y"
      }
    },
    {
      "cell_type": "markdown",
      "source": [
        "1) Calculate the expected number of sales out of the 3 he works on that Amir will win each week if he maintains his 30% win rate.\n",
        "\n",
        "2) Calculate the expected number of sales out of the 4 he works on that he'll win if his win rate drops to 25%.\n",
        "\n",
        "3) Calculate the expected number of sales out of the 2 he works on that he'll win if his win rate rises to 35%."
      ],
      "metadata": {
        "id": "xQ-pNnHsb2HW"
      }
    },
    {
      "cell_type": "code",
      "source": [
        "a=3*.30     #n=3, p=.3\n",
        "print('3 at 30% :',a)\n",
        "b=4*.25     #n=4, p=.25\n",
        "print('4 at 25% :',b)\n",
        "c=2*.35     #n=2, p=.35\n",
        "print('2 at 35% :',c)"
      ],
      "metadata": {
        "colab": {
          "base_uri": "https://localhost:8080/"
        },
        "id": "hJWc7x7Jb_89",
        "outputId": "52cfe056-dd69-43d1-c50b-a7cb1baee807"
      },
      "execution_count": 57,
      "outputs": [
        {
          "output_type": "stream",
          "name": "stdout",
          "text": [
            "3 at 30% : 0.8999999999999999\n",
            "4 at 25% : 1.0\n",
            "2 at 35% : 0.7\n"
          ]
        }
      ]
    },
    {
      "cell_type": "markdown",
      "source": [
        "# **Normal Distribution (Continuous)**\n",
        "\n",
        "\n",
        "---\n",
        "\n",
        "### **Create random numbers** \n",
        "\n",
        "    stats.norm.rvs(mean, standard deviation, size)\n",
        "    stats.norm.rvs(161, 7, size=10000)\n",
        "It will generate 10000 number where mean will be 161 and sd will be 7.\n",
        "\n",
        "\n",
        "---\n",
        "\n",
        "\n",
        "### **CDF, SF, PDF, PPF**\n",
        "\n",
        "\n",
        "---\n",
        "\n",
        "\n",
        "    stats.norm.cdf(x, mean, sd)\n",
        "\n",
        "It will give the probability of value x or fewer.\n",
        "\n",
        "\n",
        "---\n",
        "\n",
        "\n",
        "    stats.norm.sf(x, mean, sd)\n",
        "\n",
        "It will give the probability of more than value x.\n",
        "\n",
        "\n",
        "---\n",
        "\n",
        "\n",
        "    stats.norm.pdf(x, mean, sd)\n",
        "\n",
        "It will give the probability of exact value x.\n",
        "\n",
        "\n",
        "---\n",
        "    stats.norm.ppf(p, mean, sd)\n",
        "\n",
        "It will give the value of x according to given probability p.\n"
      ],
      "metadata": {
        "id": "2FPS9mzP1vHn"
      }
    },
    {
      "cell_type": "markdown",
      "source": [
        "## **Example**\n",
        "\n",
        "\n",
        "---\n",
        "\n",
        "\n",
        "Suppose, we are measuring the heights of women where mean height is 161 cm and sd is 7 cm. Lowest is 140 cm & Highest is 180 cm.\n",
        "\n",
        "1) What percent of women are shorter than 154 cm?\n",
        "\n",
        "2) What percent of women are taller than 154 cm?\n",
        "\n",
        "3) What percent of women are exactly 154 cm?\n",
        "\n",
        "4) What percent of women are 154-157 cm?\n",
        "\n",
        "5) What height are 90% of women shorter than?\n",
        "\n",
        "6) What height are 90% of women taller than?\n",
        "\n",
        "7) Set seed 100. Generate 10000 random heights and make a histogram and density plot."
      ],
      "metadata": {
        "id": "FEaPzlQY7HzM"
      }
    },
    {
      "cell_type": "code",
      "source": [
        "#1\n",
        "stats.norm.cdf(154,161,7)"
      ],
      "metadata": {
        "colab": {
          "base_uri": "https://localhost:8080/"
        },
        "id": "e8Onjx5z9Faz",
        "outputId": "59d29a11-d037-4a7e-83d9-287d07354fe5"
      },
      "execution_count": 58,
      "outputs": [
        {
          "output_type": "execute_result",
          "data": {
            "text/plain": [
              "0.15865525393145707"
            ]
          },
          "metadata": {},
          "execution_count": 58
        }
      ]
    },
    {
      "cell_type": "code",
      "source": [
        "#2\n",
        "stats.norm.sf(154,161,7)"
      ],
      "metadata": {
        "colab": {
          "base_uri": "https://localhost:8080/"
        },
        "id": "a5bpwrtq9RTk",
        "outputId": "c968fae5-1672-4e4d-ee23-72031c3e3f87"
      },
      "execution_count": 59,
      "outputs": [
        {
          "output_type": "execute_result",
          "data": {
            "text/plain": [
              "0.8413447460685429"
            ]
          },
          "metadata": {},
          "execution_count": 59
        }
      ]
    },
    {
      "cell_type": "code",
      "source": [
        "#3\n",
        "stats.norm.pdf(154,161,7)"
      ],
      "metadata": {
        "colab": {
          "base_uri": "https://localhost:8080/"
        },
        "id": "4asg_Nv-4Cij",
        "outputId": "fb1900f1-621e-48f5-f4a0-ef1df76dbb4a"
      },
      "execution_count": 60,
      "outputs": [
        {
          "output_type": "execute_result",
          "data": {
            "text/plain": [
              "0.034567246359877624"
            ]
          },
          "metadata": {},
          "execution_count": 60
        }
      ]
    },
    {
      "cell_type": "code",
      "source": [
        "#4\n",
        "stats.norm.cdf(157,161,7)-stats.norm.cdf(154,161,7)"
      ],
      "metadata": {
        "colab": {
          "base_uri": "https://localhost:8080/"
        },
        "id": "fpY2OfMT6jDu",
        "outputId": "db76d3c9-094e-43bb-b550-2d3c89d55618"
      },
      "execution_count": 61,
      "outputs": [
        {
          "output_type": "execute_result",
          "data": {
            "text/plain": [
              "0.1251993291672192"
            ]
          },
          "metadata": {},
          "execution_count": 61
        }
      ]
    },
    {
      "cell_type": "code",
      "source": [
        "#5\n",
        "stats.norm.ppf(.9,161,7)"
      ],
      "metadata": {
        "colab": {
          "base_uri": "https://localhost:8080/"
        },
        "id": "xWKgnuFi9hla",
        "outputId": "886b2023-f831-45ee-db60-0afab48a327e"
      },
      "execution_count": 62,
      "outputs": [
        {
          "output_type": "execute_result",
          "data": {
            "text/plain": [
              "169.9708609588122"
            ]
          },
          "metadata": {},
          "execution_count": 62
        }
      ]
    },
    {
      "cell_type": "code",
      "source": [
        "#6\n",
        "stats.norm.ppf((1-.9),161,7)"
      ],
      "metadata": {
        "colab": {
          "base_uri": "https://localhost:8080/"
        },
        "id": "arB-Tx1c9s-X",
        "outputId": "be42b503-4704-4d14-bc83-31476fed2ea8"
      },
      "execution_count": 63,
      "outputs": [
        {
          "output_type": "execute_result",
          "data": {
            "text/plain": [
              "152.0291390411878"
            ]
          },
          "metadata": {},
          "execution_count": 63
        }
      ]
    },
    {
      "cell_type": "code",
      "source": [
        "#7\n",
        "np.random.seed(100)\n",
        "N=stats.norm.rvs(161,7,size=10000)\n",
        "pd.DataFrame(N).plot(kind='density')\n",
        "plt.show()"
      ],
      "metadata": {
        "colab": {
          "base_uri": "https://localhost:8080/",
          "height": 265
        },
        "id": "oX6q_lzv9_pw",
        "outputId": "469903e4-7a01-4c2a-aec5-749babbce0fb"
      },
      "execution_count": 64,
      "outputs": [
        {
          "output_type": "display_data",
          "data": {
            "text/plain": [
              "<Figure size 432x288 with 1 Axes>"
            ],
            "image/png": "[encoded data removed]"
          },
          "metadata": {
            "needs_background": "light"
          }
        }
      ]
    },
    {
      "cell_type": "code",
      "source": [
        "plt.hist(N)\n",
        "plt.show()"
      ],
      "metadata": {
        "colab": {
          "base_uri": "https://localhost:8080/",
          "height": 265
        },
        "id": "HJSWunU9-gck",
        "outputId": "24199edd-61b2-41ff-e56b-e79c4b778c86"
      },
      "execution_count": 65,
      "outputs": [
        {
          "output_type": "display_data",
          "data": {
            "text/plain": [
              "<Figure size 432x288 with 1 Axes>"
            ],
            "image/png": "[encoded data removed]"
          },
          "metadata": {
            "needs_background": "light"
          }
        }
      ]
    },
    {
      "cell_type": "markdown",
      "source": [
        "# **Poisson Distribution (Discrete)**\n",
        "\n",
        "\n",
        "---\n",
        "\n",
        "### **Create random numbers** \n",
        "\n",
        "    stats.poisson.rvs(mean (lemda), size)\n",
        "    stats.poisson.rvs(16, size=10000)\n",
        "It will generate 10000 number where mean (lemda) will be 16.\n",
        "\n",
        "\n",
        "---\n",
        "\n",
        "\n",
        "### **CDF, SF, PMF**\n",
        "\n",
        "\n",
        "---\n",
        "\n",
        "\n",
        "    stats.poisson.cdf(x, mean)\n",
        "\n",
        "It will give the probability of value x or fewer.\n",
        "\n",
        "\n",
        "---\n",
        "\n",
        "\n",
        "    stats.poisson.sf(x, mean)\n",
        "\n",
        "It will give the probability of more than value x.\n",
        "\n",
        "\n",
        "---\n",
        "\n",
        "\n",
        "    stats.poisson.pmf(x, mean)\n",
        "\n",
        "It will give the probability of exact value x."
      ],
      "metadata": {
        "id": "X78VvrWzcmWj"
      }
    },
    {
      "cell_type": "markdown",
      "source": [
        "## **Example**\n",
        "\n",
        "\n",
        "---\n",
        "\n",
        "Suppose that the number of emergency patients in a given day at a certain hospital is a Poisson variable **X** with parameter **lemda**=20. What is the probability that in a given day there will be\n",
        "\n",
        "1) 15 emergency patients\n",
        "\n",
        "2) at least 3 emergency patients\n",
        "\n",
        "3) not more than 8 emergency patients\n",
        "\n",
        "4) more than 20 but less than 25\n",
        "\n",
        "5) generate 10000 numbers for this situation and plot them."
      ],
      "metadata": {
        "id": "td3KPoRwt5PB"
      }
    },
    {
      "cell_type": "code",
      "source": [
        "#1\n",
        "stats.poisson.pmf(15,20)"
      ],
      "metadata": {
        "id": "79tsh4dNcyzz",
        "colab": {
          "base_uri": "https://localhost:8080/"
        },
        "outputId": "163dc153-bb49-4fdb-ebbf-23627154e746"
      },
      "execution_count": 66,
      "outputs": [
        {
          "output_type": "execute_result",
          "data": {
            "text/plain": [
              "0.05164885353175814"
            ]
          },
          "metadata": {},
          "execution_count": 66
        }
      ]
    },
    {
      "cell_type": "code",
      "source": [
        "#2\n",
        "stats.poisson.sf(2,20)  #at least 3 means greater than 2"
      ],
      "metadata": {
        "colab": {
          "base_uri": "https://localhost:8080/"
        },
        "id": "u3urxCnqS9IJ",
        "outputId": "e8b0caa0-6e91-4393-be91-63e42b2e481f"
      },
      "execution_count": 67,
      "outputs": [
        {
          "output_type": "execute_result",
          "data": {
            "text/plain": [
              "0.9999995444850495"
            ]
          },
          "metadata": {},
          "execution_count": 67
        }
      ]
    },
    {
      "cell_type": "code",
      "source": [
        "#3\n",
        "stats.poisson.cdf(8,20)"
      ],
      "metadata": {
        "colab": {
          "base_uri": "https://localhost:8080/"
        },
        "id": "nBIoQgGfTbj_",
        "outputId": "ee6069d5-0951-496e-c84d-7670ed7647d2"
      },
      "execution_count": 68,
      "outputs": [
        {
          "output_type": "execute_result",
          "data": {
            "text/plain": [
              "0.002087259049135014"
            ]
          },
          "metadata": {},
          "execution_count": 68
        }
      ]
    },
    {
      "cell_type": "code",
      "source": [
        "#4\n",
        "stats.poisson.cdf(24,20)-stats.poisson.cdf(20,20)"
      ],
      "metadata": {
        "colab": {
          "base_uri": "https://localhost:8080/"
        },
        "id": "fci1eFBGTkds",
        "outputId": "de52245a-98ca-4459-d5d9-d2b585dba231"
      },
      "execution_count": 69,
      "outputs": [
        {
          "output_type": "execute_result",
          "data": {
            "text/plain": [
              "0.2841347939424371"
            ]
          },
          "metadata": {},
          "execution_count": 69
        }
      ]
    },
    {
      "cell_type": "code",
      "source": [
        "#5\n",
        "np.random.seed(100)\n",
        "s=stats.poisson.rvs(20,size=10000)\n",
        "pd.DataFrame(s).plot(kind='hist')\n",
        "plt.show()"
      ],
      "metadata": {
        "colab": {
          "base_uri": "https://localhost:8080/",
          "height": 265
        },
        "id": "uWPFP69XUcQQ",
        "outputId": "a98fc0b6-5982-4fe5-ad00-9613f69d6b8b"
      },
      "execution_count": 70,
      "outputs": [
        {
          "output_type": "display_data",
          "data": {
            "text/plain": [
              "<Figure size 432x288 with 1 Axes>"
            ],
            "image/png": "[encoded data removed]"
          },
          "metadata": {
            "needs_background": "light"
          }
        }
      ]
    },
    {
      "cell_type": "markdown",
      "source": [
        "# **Exponential Distribution (Continuous)**\n",
        "\n",
        "\n",
        "---\n",
        "\n",
        "### **Create random numbers** \n",
        "\n",
        "    stats.expon.rvs(rate (lemda), size)\n",
        "    stats.expon.rvs(scale=2.5, size=10000)\n",
        "It will generate 10000 number where rate (lemda) is 2.5.\n",
        "\n",
        "\n",
        "---\n",
        "\n",
        "\n",
        "### **CDF, SF, PDF**\n",
        "\n",
        "\n",
        "---\n",
        "\n",
        "\n",
        "    stats.expon.cdf(x, scale)\n",
        "\n",
        "It will give the probability of value x or fewer.\n",
        "\n",
        "\n",
        "---\n",
        "\n",
        "\n",
        "    stats.expon.sf(x, scale)\n",
        "\n",
        "It will give the probability of more than value x.\n",
        "\n",
        "\n",
        "---\n",
        "\n",
        "\n",
        "    stats.expon.pdf(x, scale)\n",
        "\n",
        "It will give the probability of exact value x."
      ],
      "metadata": {
        "id": "VVMScs1wZgeU"
      }
    },
    {
      "cell_type": "markdown",
      "source": [
        "## **Example**\n",
        "\n",
        "\n",
        "---\n",
        "To further evaluate Amir's performance, you want to know how much time it takes him to respond to a lead after he opens it. On average, it takes 2.5 hours for him to respond. In this exercise, you'll calculate probabilities of different amounts of time passing between Amir receiving a lead and sending a response.\n",
        "\n",
        "1) What's the probability it takes Amir less than an hour to respond to a lead?\n",
        "\n",
        "2) What's the probability it takes Amir more than 4 hours to respond to a lead?\n",
        "\n",
        "3) What's the probability it takes Amir 3-4 hours to respond to a lead?\n",
        "\n",
        "4) Set seed 10. Simulate 1000 numbers and plot them.\n"
      ],
      "metadata": {
        "id": "DlNEiI43cNQC"
      }
    },
    {
      "cell_type": "code",
      "source": [
        "#1\n",
        "stats.expon.cdf(1,scale=2.5)"
      ],
      "metadata": {
        "colab": {
          "base_uri": "https://localhost:8080/"
        },
        "id": "oEKIIz6pcx6T",
        "outputId": "fe51062a-56ba-400e-e5da-4a25a63141a6"
      },
      "execution_count": 71,
      "outputs": [
        {
          "output_type": "execute_result",
          "data": {
            "text/plain": [
              "0.3296799539643607"
            ]
          },
          "metadata": {},
          "execution_count": 71
        }
      ]
    },
    {
      "cell_type": "code",
      "source": [
        "#2\n",
        "stats.expon.sf(4,scale=2.5)"
      ],
      "metadata": {
        "colab": {
          "base_uri": "https://localhost:8080/"
        },
        "id": "2ftr3kynfqYy",
        "outputId": "895d8d67-b4e9-4259-e2da-943008cf63e5"
      },
      "execution_count": 72,
      "outputs": [
        {
          "output_type": "execute_result",
          "data": {
            "text/plain": [
              "0.20189651799465538"
            ]
          },
          "metadata": {},
          "execution_count": 72
        }
      ]
    },
    {
      "cell_type": "code",
      "source": [
        "#3\n",
        "stats.expon.cdf(4,scale=2.5)-stats.expon.cdf(3,scale=2.5)"
      ],
      "metadata": {
        "colab": {
          "base_uri": "https://localhost:8080/"
        },
        "id": "fE76R6XPf1gt",
        "outputId": "72f477e9-1e69-404a-c394-9114b095fe02"
      },
      "execution_count": 73,
      "outputs": [
        {
          "output_type": "execute_result",
          "data": {
            "text/plain": [
              "0.09929769391754684"
            ]
          },
          "metadata": {},
          "execution_count": 73
        }
      ]
    },
    {
      "cell_type": "code",
      "source": [
        "#4\n",
        "np.random.seed(10)\n",
        "e=stats.expon.rvs(scale=2.5,size=1000)\n",
        "plt.hist(e)\n",
        "plt.show()"
      ],
      "metadata": {
        "colab": {
          "base_uri": "https://localhost:8080/",
          "height": 265
        },
        "id": "iedUl3oZgELN",
        "outputId": "e8bd9518-929d-4b33-f1a8-ba85b97eed12"
      },
      "execution_count": 74,
      "outputs": [
        {
          "output_type": "display_data",
          "data": {
            "text/plain": [
              "<Figure size 432x288 with 1 Axes>"
            ],
            "image/png": "[encoded data removed]"
          },
          "metadata": {
            "needs_background": "light"
          }
        }
      ]
    }
  ]
}