{
  "nbformat": 4,
  "nbformat_minor": 0,
  "metadata": {
    "colab": {
      "provenance": []
    },
    "kernelspec": {
      "name": "python3",
      "display_name": "Python 3"
    },
    "language_info": {
      "name": "python"
    }
  },
  "cells": [
    {
      "cell_type": "code",
      "execution_count": 79,
      "metadata": {
        "id": "BJkt5883Y4Ly"
      },
      "outputs": [],
      "source": [
        "import numpy as np\n",
        "import pandas as pd\n",
        "import matplotlib.pyplot as plt\n",
        "import random"
      ]
    },
    {
      "cell_type": "markdown",
      "source": [
        "# **Basic Sampling**\n",
        "\n",
        "\n",
        "---\n",
        "\n"
      ],
      "metadata": {
        "id": "j3yOkS7axRfm"
      }
    },
    {
      "cell_type": "code",
      "source": [
        "pd.set_option('display.max_columns', None)  #this will show every column of the printed dataframe"
      ],
      "metadata": {
        "id": "-5grtbUQm79B"
      },
      "execution_count": 117,
      "outputs": []
    },
    {
      "cell_type": "code",
      "source": [
        "spotify_population=pd.read_feather('/content/drive/MyDrive/DataCamp/Python Track/Sampling/spotify_2000_2020.feather')\n",
        "print(spotify_population.head())"
      ],
      "metadata": {
        "colab": {
          "base_uri": "https://localhost:8080/"
        },
        "id": "c7pH40qun_kk",
        "outputId": "1fbfb463-3c98-4220-9f2c-b90dadbf48b3"
      },
      "execution_count": 82,
      "outputs": [
        {
          "output_type": "stream",
          "name": "stdout",
          "text": [
            "   acousticness          artists  danceability  duration_ms  duration_minutes  \\\n",
            "0       0.97200  ['David Bauer']         0.567     313293.0          5.221550   \n",
            "1       0.32100   ['Etta James']         0.821     360240.0          6.004000   \n",
            "2       0.00659    ['Quasimoto']         0.706     202507.0          3.375117   \n",
            "3       0.00390  ['Millencolin']         0.368     173360.0          2.889333   \n",
            "4       0.12200   ['Steve Chou']         0.501     344200.0          5.736667   \n",
            "\n",
            "   energy  explicit                      id  instrumentalness   key  liveness  \\\n",
            "0   0.227       0.0  0w0D8H1ubRerCXHWYJkinO          0.601000  10.0     0.110   \n",
            "1   0.418       0.0  4JVeqfE2tpi7Pv63LJZtPh          0.000372   9.0     0.222   \n",
            "2   0.602       1.0  5pxtdhLAi0RTh1gNqhGMNA          0.000138  11.0     0.400   \n",
            "3   0.977       0.0  3jRsoe4Vkxa4BMYqGHX8L0          0.000000  11.0     0.350   \n",
            "4   0.511       0.0  4mronxcllhfyhBRqyZi8kU          0.000000   7.0     0.279   \n",
            "\n",
            "   loudness  mode                   name  popularity release_date  \\\n",
            "0   -13.441   1.0      Shout to the Lord        47.0         2000   \n",
            "1    -9.841   0.0               Miss You        51.0   2000-12-12   \n",
            "2    -8.306   0.0              Real Eyes        44.0   2000-06-13   \n",
            "3    -2.757   0.0  Penguins & Polarbears        52.0   2000-02-22   \n",
            "4    -9.836   0.0                     黃昏        53.0   2000-12-25   \n",
            "\n",
            "   speechiness    tempo  valence    year  \n",
            "0       0.0290  136.123   0.0396  2000.0  \n",
            "1       0.0407  117.382   0.8030  2000.0  \n",
            "2       0.3420   89.692   0.4790  2000.0  \n",
            "3       0.1270  165.889   0.5480  2000.0  \n",
            "4       0.0291   78.045   0.1130  2000.0  \n"
          ]
        }
      ]
    },
    {
      "cell_type": "code",
      "source": [
        "print(spotify_population.columns.tolist())\n",
        "print(spotify_population.shape)"
      ],
      "metadata": {
        "colab": {
          "base_uri": "https://localhost:8080/"
        },
        "id": "U-swdTprrTo-",
        "outputId": "a45ea922-121c-450f-c229-21c526b487f5"
      },
      "execution_count": 83,
      "outputs": [
        {
          "output_type": "stream",
          "name": "stdout",
          "text": [
            "['acousticness', 'artists', 'danceability', 'duration_ms', 'duration_minutes', 'energy', 'explicit', 'id', 'instrumentalness', 'key', 'liveness', 'loudness', 'mode', 'name', 'popularity', 'release_date', 'speechiness', 'tempo', 'valence', 'year']\n",
            "(41656, 20)\n"
          ]
        }
      ]
    },
    {
      "cell_type": "markdown",
      "source": [
        "## **Simple sampling with pandas**\n",
        "\n",
        "Throughout this chapter, we'll be exploring song data from Spotify. Each row of this population dataset represents a song, and there are over 40,000 rows. Columns include the song name, the artists who performed it, the release year, and attributes of the song like its duration, tempo, and danceability. we'll start by looking at the durations.\n",
        "\n",
        "Our first task is to sample the Spotify dataset and compare the mean duration of the population with the sample.\n",
        "\n",
        "`spotify_population` is available and `pandas` is loaded as `pd`."
      ],
      "metadata": {
        "id": "nE8sk1HOs37h"
      }
    },
    {
      "cell_type": "markdown",
      "source": [
        "\n",
        "\n",
        "*   Sample 1000 rows from spotify_population, assigning to spotify_sample.\n",
        "*   Calculate the mean duration in minutes from spotify_population using pandas.\n",
        "\n",
        "*   Calculate the mean duration in minutes from spotify_sample using pandas.\n",
        "\n",
        "\n",
        "\n",
        "\n"
      ],
      "metadata": {
        "id": "cQ9OS8hsujCG"
      }
    },
    {
      "cell_type": "code",
      "source": [
        "# Sample 1000 rows from spotify_population\n",
        "spotify_sample = spotify_population.sample(n=1000)\n",
        "\n",
        "# Print the sample\n",
        "print(spotify_sample)"
      ],
      "metadata": {
        "colab": {
          "base_uri": "https://localhost:8080/"
        },
        "id": "8VjWzOPEsdk0",
        "outputId": "f5f5c506-c0d3-484d-b3f5-c803dfb36329"
      },
      "execution_count": 84,
      "outputs": [
        {
          "output_type": "stream",
          "name": "stdout",
          "text": [
            "       acousticness                                       artists  \\\n",
            "31162      0.289000  ['Justin Quiles', 'Daddy Yankee', 'El Alfa']   \n",
            "32106      0.374000              ['Kenny Chesney', 'The Wailers']   \n",
            "17484      0.008870                            ['Britney Spears']   \n",
            "29402      0.054300                                 ['Ruff Endz']   \n",
            "8626       0.081100                                 ['Sean Paul']   \n",
            "...             ...                                           ...   \n",
            "16789      0.486000                              ['Randy Newman']   \n",
            "25668      0.080600                    ['Los Rieleros Del Norte']   \n",
            "37514      0.000291                                    ['Kittie']   \n",
            "35401      0.192000                                 ['iann dior']   \n",
            "26524      0.004850                      ['Florida Georgia Line']   \n",
            "\n",
            "       danceability  duration_ms  duration_minutes  energy  explicit  \\\n",
            "31162         0.889     201000.0          3.350000   0.863       1.0   \n",
            "32106         0.705     252987.0          4.216450   0.693       0.0   \n",
            "17484         0.741     239213.0          3.986883   0.622       0.0   \n",
            "29402         0.637     297360.0          4.956000   0.678       0.0   \n",
            "8626          0.757     232507.0          3.875117   0.780       0.0   \n",
            "...             ...          ...               ...     ...       ...   \n",
            "16789         0.552     160187.0          2.669783   0.365       0.0   \n",
            "25668         0.516     165733.0          2.762217   0.802       0.0   \n",
            "37514         0.349     189707.0          3.161783   0.931       1.0   \n",
            "35401         0.636     144913.0          2.415217   0.489       1.0   \n",
            "26524         0.476     193640.0          3.227333   0.920       0.0   \n",
            "\n",
            "                           id  instrumentalness   key  liveness  loudness  \\\n",
            "31162  0eeKDrQxjqNl5bX5VCHDcn          0.000603  11.0    0.0798    -3.011   \n",
            "32106  3u0iJcNE8fHupAO2OOqGlC          0.000012  11.0    0.6500    -7.153   \n",
            "17484  263w5yLLnexUUOMc5Py9m5          0.000501   8.0    0.1500    -5.878   \n",
            "29402  2LrvK045zLQyt4s9n1QSBA          0.000000   8.0    0.0961    -2.210   \n",
            "8626   2thQ8Zi2V8z6XJuCvxHm7V          0.000000   1.0    0.1130    -5.038   \n",
            "...                       ...               ...   ...       ...       ...   \n",
            "16789  6miK1DMb1WONHzH1jh5PLk          0.338000   2.0    0.1050    -9.806   \n",
            "25668  20qd1CUZCdgbOYN8vDt8Se          0.000000   5.0    0.0988    -1.597   \n",
            "37514  6lqwRfIHYRiJ7M9xfLqcRx          0.000650   1.0    0.1040    -6.016   \n",
            "35401  2cfvN9LpM3RFW3wKqrE1jZ          0.000002  10.0    0.2660    -7.611   \n",
            "26524  0H9Q7Vzu8nYRDBZYKbtU8d          0.000012  10.0    0.3550    -3.223   \n",
            "\n",
            "       mode                                               name  popularity  \\\n",
            "31162   1.0                                                PAM        85.0   \n",
            "32106   1.0  Everybody Wants to Go to Heaven (with The Wail...        49.0   \n",
            "17484   1.0                                    Kill the Lights        46.0   \n",
            "29402   1.0                                Someone To Love You        49.0   \n",
            "8626    1.0                                          Like Glue        44.0   \n",
            "...     ...                                                ...         ...   \n",
            "16789   0.0                                    The Scare Floor        41.0   \n",
            "25668   1.0                                Voy A Llorar Por Ti        60.0   \n",
            "37514   1.0                                           Brackish        44.0   \n",
            "35401   0.0                                        Runaway Kid        62.0   \n",
            "26524   1.0                                    Sippin’ On Fire        61.0   \n",
            "\n",
            "      release_date  speechiness    tempo  valence    year  \n",
            "31162   2020-05-01       0.0757  112.953    0.776  2020.0  \n",
            "32106   2008-10-14       0.1550  137.741    0.555  2008.0  \n",
            "17484   2008-12-02       0.0404  122.013    0.625  2008.0  \n",
            "29402         2002       0.0345   77.928    0.426  2002.0  \n",
            "8626    2002-11-12       0.3190   97.917    0.590  2002.0  \n",
            "...            ...          ...      ...      ...     ...  \n",
            "16789   2001-01-01       0.0300  100.034    0.381  2001.0  \n",
            "25668   2006-01-01       0.0403  109.770    0.717  2006.0  \n",
            "37514   2000-01-11       0.0863  142.956    0.843  2000.0  \n",
            "35401   2020-06-12       0.2840  174.057    0.539  2020.0  \n",
            "26524   2014-10-14       0.0329  142.952    0.694  2014.0  \n",
            "\n",
            "[1000 rows x 20 columns]\n"
          ]
        }
      ]
    },
    {
      "cell_type": "code",
      "source": [
        "# Calculate the mean duration in mins from spotify_population\n",
        "mean_dur_pop = spotify_population['duration_minutes'].mean()\n",
        "\n",
        "# Calculate the mean duration in mins from spotify_sample\n",
        "mean_dur_samp = spotify_sample['duration_minutes'].mean()\n",
        "\n",
        "# Print the means\n",
        "print(mean_dur_pop)\n",
        "print(mean_dur_samp)"
      ],
      "metadata": {
        "colab": {
          "base_uri": "https://localhost:8080/"
        },
        "id": "mdWd8Tvgtb-C",
        "outputId": "7bea0eb3-6b52-4839-a82b-9f7c7bef43ff"
      },
      "execution_count": 85,
      "outputs": [
        {
          "output_type": "stream",
          "name": "stdout",
          "text": [
            "3.8521519140900073\n",
            "3.9230348166666666\n"
          ]
        }
      ]
    },
    {
      "cell_type": "markdown",
      "source": [
        "## **Simple sampling and calculating with NumPy**\n",
        "\n",
        "We can also use numpy to calculate parameters or statistics from a list or pandas Series.\n",
        "\n",
        "We'll be turning it up to eleven and looking at the loudness property of each song."
      ],
      "metadata": {
        "id": "2375M6JFuDEG"
      }
    },
    {
      "cell_type": "markdown",
      "source": [
        "\n",
        "\n",
        "*   Create a pandas Series, loudness_pop, by subsetting the loudness column from spotify_population.\n",
        "\n",
        "*   Sample loudness_pop to get 100 random values, assigning to loudness_samp.\n",
        "\n",
        "*   Calculate the mean of loudness_pop using numpy.\n",
        "\n",
        "*   Calculate the mean of loudness_samp using numpy.\n",
        "\n",
        "\n",
        "\n"
      ],
      "metadata": {
        "id": "S8gCdaXquVjv"
      }
    },
    {
      "cell_type": "code",
      "source": [
        "# Create a pandas Series from the loudness column of spotify_population\n",
        "loudness_pop = spotify_population['loudness']\n",
        "\n",
        "# Sample 100 values of loudness_pop\n",
        "loudness_samp = loudness_pop.sample(n=100)\n",
        "\n",
        "# Print the sample\n",
        "print(loudness_samp)"
      ],
      "metadata": {
        "colab": {
          "base_uri": "https://localhost:8080/"
        },
        "id": "CWUi0k_LueCE",
        "outputId": "730feb30-73c8-44da-81cd-1f74c0e0ddf6"
      },
      "execution_count": 86,
      "outputs": [
        {
          "output_type": "stream",
          "name": "stdout",
          "text": [
            "17940   -4.392\n",
            "12883   -8.736\n",
            "29960   -3.709\n",
            "26315   -5.137\n",
            "17756   -4.010\n",
            "         ...  \n",
            "39401   -6.162\n",
            "38380   -8.003\n",
            "10140   -8.139\n",
            "10964   -9.033\n",
            "2596    -4.992\n",
            "Name: loudness, Length: 100, dtype: float64\n"
          ]
        }
      ]
    },
    {
      "cell_type": "code",
      "source": [
        "# Calculate the mean of loudness_pop\n",
        "mean_loudness_pop = np.mean(loudness_pop)\n",
        "\n",
        "# Calculate the mean of loudness_samp\n",
        "mean_loudness_samp = np.mean(loudness_samp)\n",
        "\n",
        "# Print the means\n",
        "print(mean_loudness_pop)\n",
        "print(mean_loudness_samp)"
      ],
      "metadata": {
        "colab": {
          "base_uri": "https://localhost:8080/"
        },
        "id": "BzRpa3e0wHch",
        "outputId": "0e1d1f66-5290-461b-cab4-bf7c4afb693f"
      },
      "execution_count": 87,
      "outputs": [
        {
          "output_type": "stream",
          "name": "stdout",
          "text": [
            "-7.366856851353947\n",
            "-8.3278\n"
          ]
        }
      ]
    },
    {
      "cell_type": "markdown",
      "source": [
        "# **Sampling Methods**\n",
        "\n",
        "\n",
        "---\n",
        "\n"
      ],
      "metadata": {
        "id": "KTiMJtMjxpDJ"
      }
    },
    {
      "cell_type": "code",
      "source": [
        "attrition_pop=pd.read_feather('/content/drive/MyDrive/DataCamp/Python Track/Sampling/attrition.feather')\n",
        "print(attrition_pop.head())"
      ],
      "metadata": {
        "colab": {
          "base_uri": "https://localhost:8080/"
        },
        "id": "7xxxBnfRrp6Z",
        "outputId": "748320dc-f51d-47d1-9ebf-0806586f0f45"
      },
      "execution_count": 88,
      "outputs": [
        {
          "output_type": "stream",
          "name": "stdout",
          "text": [
            "   Age  Attrition     BusinessTravel  DailyRate            Department  \\\n",
            "0   21        0.0      Travel_Rarely        391  Research_Development   \n",
            "1   19        1.0      Travel_Rarely        528                 Sales   \n",
            "2   18        1.0      Travel_Rarely        230  Research_Development   \n",
            "3   18        0.0      Travel_Rarely        812                 Sales   \n",
            "4   18        1.0  Travel_Frequently       1306                 Sales   \n",
            "\n",
            "   DistanceFromHome      Education EducationField EnvironmentSatisfaction  \\\n",
            "0                15        College  Life_Sciences                    High   \n",
            "1                22  Below_College      Marketing               Very_High   \n",
            "2                 3       Bachelor  Life_Sciences                    High   \n",
            "3                10       Bachelor        Medical               Very_High   \n",
            "4                 5       Bachelor      Marketing                  Medium   \n",
            "\n",
            "   Gender  HourlyRate JobInvolvement  JobLevel                JobRole  \\\n",
            "0    Male          96           High         1     Research_Scientist   \n",
            "1    Male          50           High         1   Sales_Representative   \n",
            "2    Male          54           High         1  Laboratory_Technician   \n",
            "3  Female          69         Medium         1   Sales_Representative   \n",
            "4    Male          69           High         1   Sales_Representative   \n",
            "\n",
            "  JobSatisfaction MaritalStatus  MonthlyIncome  MonthlyRate  \\\n",
            "0       Very_High        Single           1232        19281   \n",
            "1            High        Single           1675        26820   \n",
            "2            High        Single           1420        25233   \n",
            "3            High        Single           1200         9724   \n",
            "4          Medium        Single           1878         8059   \n",
            "\n",
            "   NumCompaniesWorked OverTime  PercentSalaryHike PerformanceRating  \\\n",
            "0                   1       No                 14         Excellent   \n",
            "1                   1      Yes                 19         Excellent   \n",
            "2                   1       No                 13         Excellent   \n",
            "3                   1       No                 12         Excellent   \n",
            "4                   1      Yes                 14         Excellent   \n",
            "\n",
            "  RelationshipSatisfaction  StockOptionLevel  TotalWorkingYears  \\\n",
            "0                Very_High                 0                  0   \n",
            "1                Very_High                 0                  0   \n",
            "2                     High                 0                  0   \n",
            "3                      Low                 0                  0   \n",
            "4                Very_High                 0                  0   \n",
            "\n",
            "   TrainingTimesLastYear WorkLifeBalance  YearsAtCompany  YearsInCurrentRole  \\\n",
            "0                      6          Better               0                   0   \n",
            "1                      2            Good               0                   0   \n",
            "2                      2          Better               0                   0   \n",
            "3                      2          Better               0                   0   \n",
            "4                      3          Better               0                   0   \n",
            "\n",
            "   YearsSinceLastPromotion  YearsWithCurrManager  \n",
            "0                        0                     0  \n",
            "1                        0                     0  \n",
            "2                        0                     0  \n",
            "3                        0                     0  \n",
            "4                        0                     0  \n"
          ]
        }
      ]
    },
    {
      "cell_type": "code",
      "source": [
        "print(attrition_pop.columns.tolist())\n",
        "print(attrition_pop.shape)"
      ],
      "metadata": {
        "colab": {
          "base_uri": "https://localhost:8080/"
        },
        "id": "4bn-WQrvr3vY",
        "outputId": "0c64a3e9-7dee-447e-950a-ebfc6d6e8096"
      },
      "execution_count": 89,
      "outputs": [
        {
          "output_type": "stream",
          "name": "stdout",
          "text": [
            "['Age', 'Attrition', 'BusinessTravel', 'DailyRate', 'Department', 'DistanceFromHome', 'Education', 'EducationField', 'EnvironmentSatisfaction', 'Gender', 'HourlyRate', 'JobInvolvement', 'JobLevel', 'JobRole', 'JobSatisfaction', 'MaritalStatus', 'MonthlyIncome', 'MonthlyRate', 'NumCompaniesWorked', 'OverTime', 'PercentSalaryHike', 'PerformanceRating', 'RelationshipSatisfaction', 'StockOptionLevel', 'TotalWorkingYears', 'TrainingTimesLastYear', 'WorkLifeBalance', 'YearsAtCompany', 'YearsInCurrentRole', 'YearsSinceLastPromotion', 'YearsWithCurrManager']\n",
            "(1470, 31)\n"
          ]
        }
      ]
    },
    {
      "cell_type": "markdown",
      "source": [
        "## **1) Simple random sampling**\n",
        "\n",
        "\n",
        "---\n",
        "\n",
        "\n",
        "\n",
        "The simplest method of sampling a population is the one you've seen already. It is known as simple random sampling (sometimes abbreviated to \"SRS\"), and involves picking rows at random, one at a time, where each row has the same chance of being picked as any other.\n",
        "\n",
        "In this chapter, we'll apply sampling methods to a synthetic (fictional) employee attrition dataset from IBM, where \"attrition\" in this context means leaving the company.\n",
        "\n",
        "`attrition_pop` is available; `pandas` as `pd` is loaded."
      ],
      "metadata": {
        "id": "KOIHlUr_xrOK"
      }
    },
    {
      "cell_type": "markdown",
      "source": [
        "\n",
        "\n",
        "*   Sample 70 rows from attrition_pop using simple random sampling, setting the random seed to 2023.\n",
        "\n",
        "*   Print the sample dataset, attrition_samp. What do you notice about the indices?\n",
        "\n"
      ],
      "metadata": {
        "id": "yTSlmpNGyxrn"
      }
    },
    {
      "cell_type": "code",
      "source": [
        "# Sample 70 rows using simple random sampling and set the seed\n",
        "attrition_samp = attrition_pop.sample(n=70,random_state=2023)\n",
        "\n",
        "# Print the sample\n",
        "print(attrition_samp)"
      ],
      "metadata": {
        "colab": {
          "base_uri": "https://localhost:8080/"
        },
        "id": "sE5Mpg5wzBp9",
        "outputId": "f10c3496-a8b4-4dab-88fe-bc9b7b33d2e2"
      },
      "execution_count": 90,
      "outputs": [
        {
          "output_type": "stream",
          "name": "stdout",
          "text": [
            "      Age  Attrition     BusinessTravel  DailyRate            Department  \\\n",
            "693    30        0.0      Travel_Rarely       1288                 Sales   \n",
            "1054   33        1.0  Travel_Frequently        827  Research_Development   \n",
            "1023   36        0.0      Travel_Rarely        913  Research_Development   \n",
            "670    39        0.0      Travel_Rarely        903                 Sales   \n",
            "618    26        0.0      Travel_Rarely        157  Research_Development   \n",
            "...   ...        ...                ...        ...                   ...   \n",
            "1126   42        0.0      Travel_Rarely        810  Research_Development   \n",
            "501    38        1.0      Travel_Rarely        903  Research_Development   \n",
            "895    35        1.0      Travel_Rarely        303                 Sales   \n",
            "1394   50        0.0  Travel_Frequently       1115  Research_Development   \n",
            "123    34        0.0      Travel_Rarely       1346  Research_Development   \n",
            "\n",
            "      DistanceFromHome Education    EducationField EnvironmentSatisfaction  \\\n",
            "693                 29    Master  Technical_Degree                    High   \n",
            "1054                29    Master           Medical                     Low   \n",
            "1023                 9   College           Medical                  Medium   \n",
            "670                  2    Doctor     Life_Sciences                     Low   \n",
            "618                  1  Bachelor           Medical                    High   \n",
            "...                ...       ...               ...                     ...   \n",
            "1126                23    Doctor     Life_Sciences                     Low   \n",
            "501                  2  Bachelor           Medical                    High   \n",
            "895                 27  Bachelor     Life_Sciences                    High   \n",
            "1394                 1  Bachelor     Life_Sciences                     Low   \n",
            "123                 19   College           Medical                  Medium   \n",
            "\n",
            "      Gender  HourlyRate JobInvolvement  JobLevel                 JobRole  \\\n",
            "693     Male          33           High         3         Sales_Executive   \n",
            "1054  Female          54         Medium         2      Research_Scientist   \n",
            "1023    Male          48         Medium         2  Manufacturing_Director   \n",
            "670     Male          41      Very_High         3         Sales_Executive   \n",
            "618     Male          95           High         1   Laboratory_Technician   \n",
            "...      ...         ...            ...       ...                     ...   \n",
            "1126  Female          44           High         4       Research_Director   \n",
            "501     Male          81           High         2  Manufacturing_Director   \n",
            "895     Male          84           High         2         Sales_Executive   \n",
            "1394  Female          73           High         5       Research_Director   \n",
            "123     Male          93           High         1   Laboratory_Technician   \n",
            "\n",
            "     JobSatisfaction MaritalStatus  MonthlyIncome  MonthlyRate  \\\n",
            "693           Medium       Married           9250        17799   \n",
            "1054            High        Single           4508         3129   \n",
            "1023          Medium      Divorced           8847        13934   \n",
            "670             High        Single           7880         2560   \n",
            "618              Low        Single           2867        20006   \n",
            "...              ...           ...            ...          ...   \n",
            "1126       Very_High        Single          15992        15901   \n",
            "501           Medium       Married           4855         7653   \n",
            "895        Very_High        Single           5813        13492   \n",
            "1394          Medium       Married          18172         9755   \n",
            "123        Very_High      Divorced           2661         8758   \n",
            "\n",
            "      NumCompaniesWorked OverTime  PercentSalaryHike PerformanceRating  \\\n",
            "693                    3       No                 12         Excellent   \n",
            "1054                   1       No                 22       Outstanding   \n",
            "1023                   2      Yes                 11         Excellent   \n",
            "670                    0       No                 18         Excellent   \n",
            "618                    0       No                 13         Excellent   \n",
            "...                  ...      ...                ...               ...   \n",
            "1126                   2       No                 14         Excellent   \n",
            "501                    4       No                 11         Excellent   \n",
            "895                    1      Yes                 18         Excellent   \n",
            "1394                   3      Yes                 19         Excellent   \n",
            "123                    0       No                 11         Excellent   \n",
            "\n",
            "     RelationshipSatisfaction  StockOptionLevel  TotalWorkingYears  \\\n",
            "693                    Medium                 1                  9   \n",
            "1054                   Medium                 0                 14   \n",
            "1023                     High                 1                 13   \n",
            "670                 Very_High                 0                  9   \n",
            "618                 Very_High                 0                  8   \n",
            "...                       ...               ...                ...   \n",
            "1126                   Medium                 0                 16   \n",
            "501                       Low                 2                  7   \n",
            "895                 Very_High                 0                 10   \n",
            "1394                      Low                 0                 28   \n",
            "123                      High                 1                  3   \n",
            "\n",
            "      TrainingTimesLastYear WorkLifeBalance  YearsAtCompany  \\\n",
            "693                       3          Better               4   \n",
            "1054                      4          Better              13   \n",
            "1023                      2          Better               3   \n",
            "670                       3          Better               8   \n",
            "618                       6            Good               7   \n",
            "...                     ...             ...             ...   \n",
            "1126                      2          Better               1   \n",
            "501                       2          Better               5   \n",
            "895                       2          Better              10   \n",
            "1394                      1            Good               8   \n",
            "123                       2          Better               2   \n",
            "\n",
            "      YearsInCurrentRole  YearsSinceLastPromotion  YearsWithCurrManager  \n",
            "693                    2                        1                     3  \n",
            "1054                   7                        3                     8  \n",
            "1023                   2                        0                     2  \n",
            "670                    7                        0                     7  \n",
            "618                    7                        7                     6  \n",
            "...                  ...                      ...                   ...  \n",
            "1126                   0                        0                     0  \n",
            "501                    2                        1                     4  \n",
            "895                    7                        7                     7  \n",
            "1394                   3                        0                     7  \n",
            "123                    2                        1                     2  \n",
            "\n",
            "[70 rows x 31 columns]\n"
          ]
        }
      ]
    },
    {
      "cell_type": "markdown",
      "source": [
        "Notice how the indexes in the sample aren't always in increasing order. They are just random."
      ],
      "metadata": {
        "id": "QX8vKr5E0Rdt"
      }
    },
    {
      "cell_type": "markdown",
      "source": [
        "## **2) Systematic sampling**\n",
        "\n",
        "\n",
        "---\n",
        "\n",
        "\n",
        "\n",
        "One sampling method that avoids randomness is called systematic sampling. Here, you pick rows from the population at regular intervals.\n",
        "\n",
        "For example, if the population dataset had one thousand rows, and you wanted a sample size of five, you could pick rows 0, 200, 400, 600, and 800."
      ],
      "metadata": {
        "id": "dFHluAVAzZ1B"
      }
    },
    {
      "cell_type": "markdown",
      "source": [
        "\n",
        "\n",
        "*   Set the sample size to 70.\n",
        "\n",
        "*   Calculate the population size from attrition_pop.\n",
        "\n",
        "*   Calculate the interval between the rows to be sampled.\n",
        "*   Systematically sample attrition_pop to get the rows of the population at each interval, starting at 0; assign the rows to attrition_sys_samp.\n",
        "\n",
        "\n",
        "\n",
        "\n"
      ],
      "metadata": {
        "id": "X_LQOyJ-zf9I"
      }
    },
    {
      "cell_type": "code",
      "source": [
        "# Set the sample size to 70\n",
        "sample_size = 70\n",
        "\n",
        "# Calculate the population size from attrition_pop\n",
        "pop_size = len(attrition_pop)\n",
        "\n",
        "# Calculate the interval\n",
        "interval = pop_size // sample_size  # // rounds the figure and avoids fractions\n",
        "\n",
        "# Systematically sample 70 rows\n",
        "attrition_sys_samp = attrition_pop.iloc[::interval]\n",
        "\n",
        "# Print the sample\n",
        "print(attrition_sys_samp)"
      ],
      "metadata": {
        "colab": {
          "base_uri": "https://localhost:8080/"
        },
        "id": "_HI2kWfx0FQ4",
        "outputId": "60d2bfe0-9714-452b-d146-6f111ac46523"
      },
      "execution_count": 91,
      "outputs": [
        {
          "output_type": "stream",
          "name": "stdout",
          "text": [
            "      Age  Attrition BusinessTravel  DailyRate            Department  \\\n",
            "0      21        0.0  Travel_Rarely        391  Research_Development   \n",
            "21     19        0.0  Travel_Rarely       1181  Research_Development   \n",
            "42     45        0.0  Travel_Rarely        252  Research_Development   \n",
            "63     23        0.0  Travel_Rarely        373  Research_Development   \n",
            "84     30        1.0  Travel_Rarely        945                 Sales   \n",
            "...   ...        ...            ...        ...                   ...   \n",
            "1365   48        0.0  Travel_Rarely        715  Research_Development   \n",
            "1386   48        0.0  Travel_Rarely       1355  Research_Development   \n",
            "1407   50        0.0  Travel_Rarely        989  Research_Development   \n",
            "1428   50        0.0     Non-Travel        881  Research_Development   \n",
            "1449   52        0.0  Travel_Rarely        699  Research_Development   \n",
            "\n",
            "      DistanceFromHome      Education EducationField EnvironmentSatisfaction  \\\n",
            "0                   15        College  Life_Sciences                    High   \n",
            "21                   3  Below_College        Medical                  Medium   \n",
            "42                   2       Bachelor  Life_Sciences                  Medium   \n",
            "63                   1        College  Life_Sciences               Very_High   \n",
            "84                   9       Bachelor        Medical                  Medium   \n",
            "...                ...            ...            ...                     ...   \n",
            "1365                 1       Bachelor  Life_Sciences               Very_High   \n",
            "1386                 4         Master  Life_Sciences                    High   \n",
            "1407                 7        College        Medical                  Medium   \n",
            "1428                 2         Master  Life_Sciences                     Low   \n",
            "1449                 1         Master  Life_Sciences                    High   \n",
            "\n",
            "      Gender  HourlyRate JobInvolvement  JobLevel                    JobRole  \\\n",
            "0       Male          96           High         1         Research_Scientist   \n",
            "21    Female          79           High         1      Laboratory_Technician   \n",
            "42    Female          95         Medium         1         Research_Scientist   \n",
            "63      Male          47           High         1         Research_Scientist   \n",
            "84      Male          89           High         1       Sales_Representative   \n",
            "...      ...         ...            ...       ...                        ...   \n",
            "1365    Male          76         Medium         5          Research_Director   \n",
            "1386    Male          78         Medium         3  Healthcare_Representative   \n",
            "1407  Female          43         Medium         5          Research_Director   \n",
            "1428    Male          98           High         4                    Manager   \n",
            "1449    Male          65         Medium         5                    Manager   \n",
            "\n",
            "     JobSatisfaction MaritalStatus  MonthlyIncome  MonthlyRate  \\\n",
            "0          Very_High        Single           1232        19281   \n",
            "21            Medium        Single           1483        16102   \n",
            "42              High        Single           2274         6153   \n",
            "63              High       Married           1223        16901   \n",
            "84         Very_High        Single           1081        16019   \n",
            "...              ...           ...            ...          ...   \n",
            "1365       Very_High        Single          18265         8733   \n",
            "1386            High        Single          10999        22245   \n",
            "1407            High      Divorced          18740        16701   \n",
            "1428             Low      Divorced          17924         4544   \n",
            "1449            High       Married          19999         5678   \n",
            "\n",
            "      NumCompaniesWorked OverTime  PercentSalaryHike PerformanceRating  \\\n",
            "0                      1       No                 14         Excellent   \n",
            "21                     1       No                 14         Excellent   \n",
            "42                     1       No                 14         Excellent   \n",
            "63                     1       No                 22       Outstanding   \n",
            "84                     1       No                 13         Excellent   \n",
            "...                  ...      ...                ...               ...   \n",
            "1365                   6       No                 12         Excellent   \n",
            "1386                   7       No                 14         Excellent   \n",
            "1407                   5      Yes                 12         Excellent   \n",
            "1428                   1       No                 11         Excellent   \n",
            "1449                   0       No                 14         Excellent   \n",
            "\n",
            "     RelationshipSatisfaction  StockOptionLevel  TotalWorkingYears  \\\n",
            "0                   Very_High                 0                  0   \n",
            "21                  Very_High                 0                  1   \n",
            "42                  Very_High                 0                  1   \n",
            "63                  Very_High                 1                  1   \n",
            "84                       High                 0                  1   \n",
            "...                       ...               ...                ...   \n",
            "1365                     High                 0                 25   \n",
            "1386                   Medium                 0                 27   \n",
            "1407                Very_High                 1                 29   \n",
            "1428                Very_High                 1                 31   \n",
            "1449                      Low                 1                 34   \n",
            "\n",
            "      TrainingTimesLastYear WorkLifeBalance  YearsAtCompany  \\\n",
            "0                         6          Better               0   \n",
            "21                        3          Better               1   \n",
            "42                        3          Better               1   \n",
            "63                        2          Better               1   \n",
            "84                        3            Good               1   \n",
            "...                     ...             ...             ...   \n",
            "1365                      3            Best               1   \n",
            "1386                      3          Better              15   \n",
            "1407                      2            Good              27   \n",
            "1428                      3          Better              31   \n",
            "1449                      5          Better              33   \n",
            "\n",
            "      YearsInCurrentRole  YearsSinceLastPromotion  YearsWithCurrManager  \n",
            "0                      0                        0                     0  \n",
            "21                     0                        0                     0  \n",
            "42                     0                        0                     0  \n",
            "63                     0                        0                     1  \n",
            "84                     0                        0                     0  \n",
            "...                  ...                      ...                   ...  \n",
            "1365                   0                        0                     0  \n",
            "1386                  11                        4                     8  \n",
            "1407                   3                       13                     8  \n",
            "1428                   6                       14                     7  \n",
            "1449                  18                       11                     9  \n",
            "\n",
            "[70 rows x 31 columns]\n"
          ]
        }
      ]
    },
    {
      "cell_type": "markdown",
      "source": [
        "Systematic sampling avoids randomness by picking rows at regular intervals."
      ],
      "metadata": {
        "id": "86YijZLG0pKq"
      }
    },
    {
      "cell_type": "markdown",
      "source": [
        "### **Is systematic sampling OK?**\n",
        "\n",
        "Systematic sampling has a problem: if the data has been sorted, or there is some sort of pattern or meaning behind the row order, then the resulting sample may not be representative of the whole population. The problem can be solved by shuffling the rows, but then systematic sampling is equivalent to simple random sampling.\n",
        "\n",
        "Here we'll look at how to determine whether or not there is a problem."
      ],
      "metadata": {
        "id": "L7bbGhNx0p6K"
      }
    },
    {
      "cell_type": "markdown",
      "source": [
        "\n",
        "\n",
        "*   Add an index column to attrition_pop, assigning the result to attrition_pop_id.\n",
        "\n",
        "*   Create a scatter plot of YearsAtCompany versus index for attrition_pop_id using pandas .plot().\n",
        "\n",
        "*   Randomly shuffle the rows of attrition_pop.\n",
        "\n",
        "*   Reset the row indexes, and add an index column to attrition_pop.\n",
        "\n",
        "*   Repeat the scatter plot of YearsAtCompany versus index, this time using attrition_shuffled.\n",
        "\n",
        "\n",
        "\n",
        "\n",
        "\n",
        "\n"
      ],
      "metadata": {
        "id": "-GPcwRmcCNLf"
      }
    },
    {
      "cell_type": "code",
      "source": [
        "# Add an index column to attrition_pop\n",
        "attrition_pop_id = attrition_pop.reset_index()\n",
        "print(attrition_pop_id[['index','YearsAtCompany']])"
      ],
      "metadata": {
        "colab": {
          "base_uri": "https://localhost:8080/"
        },
        "id": "GJwW4ioJChuR",
        "outputId": "0d7b5f2b-547e-4281-db10-d0081f497645"
      },
      "execution_count": 92,
      "outputs": [
        {
          "output_type": "stream",
          "name": "stdout",
          "text": [
            "      index  YearsAtCompany\n",
            "0         0               0\n",
            "1         1               0\n",
            "2         2               0\n",
            "3         3               0\n",
            "4         4               0\n",
            "...     ...             ...\n",
            "1465   1465              10\n",
            "1466   1466              16\n",
            "1467   1467              37\n",
            "1468   1468              40\n",
            "1469   1469              31\n",
            "\n",
            "[1470 rows x 2 columns]\n"
          ]
        }
      ]
    },
    {
      "cell_type": "code",
      "source": [
        "# Plot YearsAtCompany vs. index for attrition_pop_id\n",
        "attrition_pop_id.plot(x='index',y='YearsAtCompany',kind='scatter')\n",
        "plt.show()"
      ],
      "metadata": {
        "colab": {
          "base_uri": "https://localhost:8080/",
          "height": 449
        },
        "id": "jKafDu2sCqxl",
        "outputId": "bfb85070-a5b2-4286-8d72-6cb49be9a9a1"
      },
      "execution_count": 93,
      "outputs": [
        {
          "output_type": "display_data",
          "data": {
            "text/plain": [
              "<Figure size 640x480 with 1 Axes>"
            ],
            "image/png": "[encoded data removed]"
          },
          "metadata": {}
        }
      ]
    },
    {
      "cell_type": "markdown",
      "source": [
        "So, we can see, here it is following a pattern. Because In dataset, `YearsAtCompany` are maximum follows ascending order.\n",
        "\n",
        "So now we need to suffle the row to avoid order."
      ],
      "metadata": {
        "id": "txRTZXNiC4AF"
      }
    },
    {
      "cell_type": "code",
      "source": [
        "# Shuffle the rows of attrition_pop\n",
        "attrition_shuffled = attrition_pop.sample(frac=1)\n",
        "print(attrition_shuffled[['YearsAtCompany']])"
      ],
      "metadata": {
        "colab": {
          "base_uri": "https://localhost:8080/"
        },
        "id": "mqZVuWygDFSa",
        "outputId": "1601af3e-1ef3-415e-f1af-22572493d2b1"
      },
      "execution_count": 94,
      "outputs": [
        {
          "output_type": "stream",
          "name": "stdout",
          "text": [
            "      YearsAtCompany\n",
            "1375               2\n",
            "970               12\n",
            "627                4\n",
            "386                5\n",
            "25                 1\n",
            "...              ...\n",
            "213                2\n",
            "949               10\n",
            "473                2\n",
            "625                4\n",
            "1207               1\n",
            "\n",
            "[1470 rows x 1 columns]\n"
          ]
        }
      ]
    },
    {
      "cell_type": "code",
      "source": [
        "# Reset the row indexes and create an index column\n",
        "attrition_shuffled = attrition_shuffled.reset_index(drop=True).reset_index()\n",
        "print(attrition_shuffled[['index','YearsAtCompany']])"
      ],
      "metadata": {
        "colab": {
          "base_uri": "https://localhost:8080/"
        },
        "id": "TX7EBt7VFNrv",
        "outputId": "d2cc7aaa-3009-482e-9e65-e3950bd86175"
      },
      "execution_count": 95,
      "outputs": [
        {
          "output_type": "stream",
          "name": "stdout",
          "text": [
            "      index  YearsAtCompany\n",
            "0         0               2\n",
            "1         1              12\n",
            "2         2               4\n",
            "3         3               5\n",
            "4         4               1\n",
            "...     ...             ...\n",
            "1465   1465               2\n",
            "1466   1466              10\n",
            "1467   1467               2\n",
            "1468   1468               4\n",
            "1469   1469               1\n",
            "\n",
            "[1470 rows x 2 columns]\n"
          ]
        }
      ]
    },
    {
      "cell_type": "code",
      "source": [
        "# Plot YearsAtCompany vs. index for attrition_shuffled\n",
        "attrition_shuffled.plot(x='index',y='YearsAtCompany',kind='scatter')\n",
        "plt.show()"
      ],
      "metadata": {
        "colab": {
          "base_uri": "https://localhost:8080/",
          "height": 449
        },
        "id": "oZk3Gc_kFtpm",
        "outputId": "7bca3ca9-8e8b-4b72-8992-ef31dd54556e"
      },
      "execution_count": 96,
      "outputs": [
        {
          "output_type": "display_data",
          "data": {
            "text/plain": [
              "<Figure size 640x480 with 1 Axes>"
            ],
            "image/png": "[encoded data removed]"
          },
          "metadata": {}
        }
      ]
    },
    {
      "cell_type": "markdown",
      "source": [
        "Systematic sampling has problems when the data are sorted or contain a pattern. Shuffling the rows makes it equivalent to simple random sampling."
      ],
      "metadata": {
        "id": "E0j86uerF3Yo"
      }
    },
    {
      "cell_type": "markdown",
      "source": [
        "## **3) Stratified sampling**\n",
        "\n",
        "\n",
        "---\n",
        "\n",
        "\n",
        "\n",
        "### **Proportional stratified sampling**\n",
        "\n",
        "If we are interested in subgroups within the population, then we may need to carefully control the counts of each subgroup within the population. Proportional stratified sampling results in subgroup sizes within the sample that are representative of the subgroup sizes within the population. It is equivalent to performing a simple random sample on each subgroup.\n",
        "\n",
        "\n",
        "\n",
        "*   Get the proportion of employees by Education level from attrition_pop.\n",
        "*   Use proportional stratified sampling on attrition_pop to sample 40% of each Education group, setting the seed to 2022.\n",
        "*   Get the proportion of employees by Education level from attrition_strat.\n",
        "\n",
        "\n",
        "\n",
        "\n",
        "\n",
        "\n",
        "\n"
      ],
      "metadata": {
        "id": "sxwqVyFPF4U0"
      }
    },
    {
      "cell_type": "code",
      "source": [
        "# Proportion of employees by Education level\n",
        "education_counts_pop = attrition_pop['Education'].value_counts(normalize=True)\n",
        "\n",
        "# Print education_counts_pop\n",
        "print(education_counts_pop)"
      ],
      "metadata": {
        "colab": {
          "base_uri": "https://localhost:8080/"
        },
        "id": "7lkV-9WmMcYG",
        "outputId": "50c58b04-c7c8-4737-bc4f-6c21d140c45a"
      },
      "execution_count": 97,
      "outputs": [
        {
          "output_type": "stream",
          "name": "stdout",
          "text": [
            "Bachelor         0.389116\n",
            "Master           0.270748\n",
            "College          0.191837\n",
            "Below_College    0.115646\n",
            "Doctor           0.032653\n",
            "Name: Education, dtype: float64\n"
          ]
        }
      ]
    },
    {
      "cell_type": "code",
      "source": [
        "# Proportional stratified sampling for 40% of each Education group\n",
        "attrition_strat = attrition_pop.groupby('Education')\\\n",
        "\t.sample(frac=0.4, random_state=2022)\n",
        "print(attrition_strat[['Education']])"
      ],
      "metadata": {
        "colab": {
          "base_uri": "https://localhost:8080/"
        },
        "id": "6XNFqXrzMnTz",
        "outputId": "1604cdac-e41e-4507-c666-e65f15187e11"
      },
      "execution_count": 98,
      "outputs": [
        {
          "output_type": "stream",
          "name": "stdout",
          "text": [
            "          Education\n",
            "1191  Below_College\n",
            "407   Below_College\n",
            "1233  Below_College\n",
            "366   Below_College\n",
            "702   Below_College\n",
            "...             ...\n",
            "733          Doctor\n",
            "1061         Doctor\n",
            "1307         Doctor\n",
            "1060         Doctor\n",
            "177          Doctor\n",
            "\n",
            "[588 rows x 1 columns]\n"
          ]
        }
      ]
    },
    {
      "cell_type": "code",
      "source": [
        "# Calculate the Education level proportions from attrition_strat\n",
        "education_counts_strat = attrition_strat['Education'].value_counts(normalize=True)\n",
        "\n",
        "# Print education_counts_strat\n",
        "print(education_counts_strat)"
      ],
      "metadata": {
        "colab": {
          "base_uri": "https://localhost:8080/"
        },
        "id": "yILMTUmZNF89",
        "outputId": "687b77d4-c836-4231-b6cf-6b418b4e3b0a"
      },
      "execution_count": 99,
      "outputs": [
        {
          "output_type": "stream",
          "name": "stdout",
          "text": [
            "Bachelor         0.389456\n",
            "Master           0.270408\n",
            "College          0.192177\n",
            "Below_College    0.115646\n",
            "Doctor           0.032313\n",
            "Name: Education, dtype: float64\n"
          ]
        }
      ]
    },
    {
      "cell_type": "markdown",
      "source": [
        "### **Equal counts stratified sampling**\n",
        "\n",
        "If one subgroup is larger than another subgroup in the population, but we don't want to reflect that difference in our analysis, then we can use equal counts stratified sampling to generate samples where each subgroup has the same amount of data. For example, if we are analyzing blood types, O is the most common blood type worldwide, but we may wish to have equal amounts of O, A, B, and AB in our sample.\n",
        "\n",
        "\n",
        "*   Use equal counts stratified sampling on attrition_pop to get 30 employees from each Education group, setting the seed to 2022.\n",
        "*   Get the proportion of employees by Education level from attrition_eq.\n",
        "\n"
      ],
      "metadata": {
        "id": "6MT4vay9P3u8"
      }
    },
    {
      "cell_type": "code",
      "source": [
        "# Get 30 employees from each Education group\n",
        "attrition_eq = attrition_pop.groupby('Education')\\\n",
        "\t.sample(n=30, random_state=2022)\n",
        "\n",
        "# Get the proportions from attrition_eq\n",
        "education_counts_eq = attrition_eq['Education'].value_counts(normalize=True)\n",
        "\n",
        "# Print the results\n",
        "print(education_counts_eq)"
      ],
      "metadata": {
        "colab": {
          "base_uri": "https://localhost:8080/"
        },
        "id": "RLrmMqG3QGKl",
        "outputId": "5e2c7997-4113-4977-af97-e109a85fe1cb"
      },
      "execution_count": 100,
      "outputs": [
        {
          "output_type": "stream",
          "name": "stdout",
          "text": [
            "Below_College    0.2\n",
            "College          0.2\n",
            "Bachelor         0.2\n",
            "Master           0.2\n",
            "Doctor           0.2\n",
            "Name: Education, dtype: float64\n"
          ]
        }
      ]
    },
    {
      "cell_type": "markdown",
      "source": [
        "## **4) Cluster sampling**\n",
        "\n",
        "\n",
        "---\n",
        "\n",
        "Cluster sampling is a two-stage sampling technique that is closely related to stratified sampling. First, we randomly sample which subgroups to include in the sample, then randomly sample rows within each subgroup."
      ],
      "metadata": {
        "id": "pfndFF9TgffK"
      }
    },
    {
      "cell_type": "markdown",
      "source": [
        "\n",
        "\n",
        "*   Create a list of unique JobRole values from attrition_pop, and assign to job_roles_pop.\n",
        "\n",
        "*   Randomly sample four JobRole values from job_roles_pop.\n",
        "\n",
        "*   Subset attrition_pop for the sampled job roles by filtering for rows where JobRole is in job_roles_samp.\n",
        "*   Remove any unused categories from JobRole.\n",
        "\n",
        "*   For each job role in the filtered dataset, take a random sample of ten rows, setting the seed to 2022.\n",
        "\n",
        "\n",
        "\n",
        "\n",
        "\n",
        "\n",
        "\n",
        "\n"
      ],
      "metadata": {
        "id": "kXjb3yMjg269"
      }
    },
    {
      "cell_type": "markdown",
      "source": [
        "### **Stage 1: sampling for subgroups**"
      ],
      "metadata": {
        "id": "FFk2Jg_YhP-i"
      }
    },
    {
      "cell_type": "code",
      "source": [
        "# Create a list of unique JobRole values\n",
        "job_roles_pop = list(attrition_pop['JobRole'].unique())\n",
        "print(job_roles_pop)\n",
        "\n",
        "# Randomly sample four JobRole values\n",
        "job_roles_samp = random.sample(job_roles_pop, k=4)\n",
        "print(job_roles_samp)"
      ],
      "metadata": {
        "colab": {
          "base_uri": "https://localhost:8080/"
        },
        "id": "BIEZoDlPhLuQ",
        "outputId": "9324ebfa-e47b-4528-8112-5537f1206c53"
      },
      "execution_count": 102,
      "outputs": [
        {
          "output_type": "stream",
          "name": "stdout",
          "text": [
            "['Research_Scientist', 'Sales_Representative', 'Laboratory_Technician', 'Human_Resources', 'Sales_Executive', 'Manufacturing_Director', 'Healthcare_Representative', 'Research_Director', 'Manager']\n",
            "['Sales_Representative', 'Manufacturing_Director', 'Laboratory_Technician', 'Sales_Executive']\n"
          ]
        }
      ]
    },
    {
      "cell_type": "markdown",
      "source": [
        "### **Stage 2: sampling each group**"
      ],
      "metadata": {
        "id": "Ujd2bxRFh6kH"
      }
    },
    {
      "cell_type": "code",
      "source": [
        "# Filter for rows where JobRole is in job_roles_samp\n",
        "jobrole_condition = attrition_pop['JobRole'].isin(job_roles_samp)\n",
        "attrition_filtered = attrition_pop[jobrole_condition]\n",
        "\n",
        "print(attrition_filtered['JobRole'])"
      ],
      "metadata": {
        "colab": {
          "base_uri": "https://localhost:8080/"
        },
        "id": "Md4Y7aanh8Yg",
        "outputId": "11e2bbe1-5674-4460-e90d-8a21ffc832d1"
      },
      "execution_count": 104,
      "outputs": [
        {
          "output_type": "stream",
          "name": "stdout",
          "text": [
            "1         Sales_Representative\n",
            "2        Laboratory_Technician\n",
            "3         Sales_Representative\n",
            "4         Sales_Representative\n",
            "7        Laboratory_Technician\n",
            "                 ...          \n",
            "1452    Manufacturing_Director\n",
            "1454           Sales_Executive\n",
            "1458           Sales_Executive\n",
            "1463    Manufacturing_Director\n",
            "1467           Sales_Executive\n",
            "Name: JobRole, Length: 813, dtype: category\n",
            "Categories (9, object): ['Healthcare_Representative', 'Human_Resources', 'Laboratory_Technician', 'Manager', ...,\n",
            "                         'Research_Director', 'Research_Scientist', 'Sales_Executive',\n",
            "                         'Sales_Representative']\n"
          ]
        }
      ]
    },
    {
      "cell_type": "code",
      "source": [
        "# Remove categories with no rows\n",
        "attrition_filtered['JobRole'] = attrition_filtered['JobRole'].cat.remove_unused_categories()\n",
        "\n",
        "# Randomly sample 10 employees from each sampled job role\n",
        "attrition_clust = attrition_filtered.groupby('JobRole').sample(n=10,random_state=2022)\n",
        "\n",
        "# Print the sample\n",
        "print(attrition_clust[['JobRole']].reset_index())"
      ],
      "metadata": {
        "colab": {
          "base_uri": "https://localhost:8080/"
        },
        "id": "M0iLwe0gikVL",
        "outputId": "29850392-b3af-4fe7-d623-8bc88eb5df25"
      },
      "execution_count": 107,
      "outputs": [
        {
          "output_type": "stream",
          "name": "stdout",
          "text": [
            "    index                 JobRole\n",
            "0    1124   Laboratory_Technician\n",
            "1     576   Laboratory_Technician\n",
            "2     995   Laboratory_Technician\n",
            "3    1243   Laboratory_Technician\n",
            "4     869   Laboratory_Technician\n",
            "5     599   Laboratory_Technician\n",
            "6     117   Laboratory_Technician\n",
            "7     472   Laboratory_Technician\n",
            "8     149   Laboratory_Technician\n",
            "9      49   Laboratory_Technician\n",
            "10   1201  Manufacturing_Director\n",
            "11    741  Manufacturing_Director\n",
            "12   1021  Manufacturing_Director\n",
            "13   1056  Manufacturing_Director\n",
            "14    897  Manufacturing_Director\n",
            "15    410  Manufacturing_Director\n",
            "16    984  Manufacturing_Director\n",
            "17   1397  Manufacturing_Director\n",
            "18   1282  Manufacturing_Director\n",
            "19   1013  Manufacturing_Director\n",
            "20    326         Sales_Executive\n",
            "21   1454         Sales_Executive\n",
            "22    358         Sales_Executive\n",
            "23    364         Sales_Executive\n",
            "24    507         Sales_Executive\n",
            "25    976         Sales_Executive\n",
            "26    462         Sales_Executive\n",
            "27   1138         Sales_Executive\n",
            "28   1223         Sales_Executive\n",
            "29    906         Sales_Executive\n",
            "30    133    Sales_Representative\n",
            "31     26    Sales_Representative\n",
            "32   1228    Sales_Representative\n",
            "33     99    Sales_Representative\n",
            "34    268    Sales_Representative\n",
            "35   1256    Sales_Representative\n",
            "36    104    Sales_Representative\n",
            "37    251    Sales_Representative\n",
            "38    101    Sales_Representative\n",
            "39    286    Sales_Representative\n"
          ]
        },
        {
          "output_type": "stream",
          "name": "stderr",
          "text": [
            "<ipython-input-107-2bb67d513ae2>:2: SettingWithCopyWarning: \n",
            "A value is trying to be set on a copy of a slice from a DataFrame.\n",
            "Try using .loc[row_indexer,col_indexer] = value instead\n",
            "\n",
            "See the caveats in the documentation: https://pandas.pydata.org/pandas-docs/stable/user_guide/indexing.html#returning-a-view-versus-a-copy\n",
            "  attrition_filtered['JobRole'] = attrition_filtered['JobRole'].cat.remove_unused_categories()\n"
          ]
        }
      ]
    },
    {
      "cell_type": "markdown",
      "source": [
        "The two-stage sampling technique gives you control over sampling both between subgroups and within subgroups."
      ],
      "metadata": {
        "id": "2LhBLMhejeg5"
      }
    },
    {
      "cell_type": "markdown",
      "source": [
        "# **Comparing point estimates**\n",
        "\n",
        "\n",
        "---\n",
        "\n",
        "We're going to compare the performance of point estimates using simple, stratified, and cluster sampling. Before doing that, we'll have to set up the samples.\n",
        "\n",
        "We'll use the RelationshipSatisfaction column of the attrition_pop dataset, which categorizes the employee's relationship with the company. It has four levels: Low, Medium, High, and Very_High.\n",
        "\n",
        "\n",
        "\n",
        "*   Perform simple random sampling on attrition_pop to get one-quarter of the population, setting the seed to 2022.\n",
        "\n",
        "*   Perform stratified sampling on attrition_pop to sample one-quarter of each RelationshipSatisfaction group, setting the seed to 2022.\n",
        "\n",
        "*   Create a list of unique values from attrition_pop's RelationshipSatisfaction column.\n",
        "Randomly sample satisfaction_unique to get two values.\n",
        "Subset the population for rows where RelationshipSatisfaction is in satisfaction_samp and clear any unused categories from RelationshipSatisfaction; assign to attrition_clust_prep.\n",
        "Perform cluster sampling on the selected satisfaction groups, sampling one quarter of the population and setting the seed to 2022.\n",
        "\n",
        "\n",
        "\n",
        "\n",
        "\n",
        "\n"
      ],
      "metadata": {
        "id": "6dMWrMR0kcxK"
      }
    },
    {
      "cell_type": "code",
      "source": [
        "# Perform simple random sampling to get 0.25 of the population\n",
        "attrition_srs = attrition_pop.sample(frac=.25,random_state=2022)"
      ],
      "metadata": {
        "id": "Gprz_MUIlBUL"
      },
      "execution_count": 108,
      "outputs": []
    },
    {
      "cell_type": "code",
      "source": [
        "# Perform stratified sampling to get 0.25 of each relationship group\n",
        "attrition_strat = attrition_pop.groupby('RelationshipSatisfaction')\\\n",
        "    .sample(frac=.25,random_state=2022)"
      ],
      "metadata": {
        "id": "sh_Q6avUlGPF"
      },
      "execution_count": 109,
      "outputs": []
    },
    {
      "cell_type": "code",
      "source": [
        "# Create a list of unique RelationshipSatisfaction values\n",
        "satisfaction_unique = list(attrition_pop['RelationshipSatisfaction'].unique())\n",
        "\n",
        "# Randomly sample 2 unique satisfaction values\n",
        "satisfaction_samp = random.sample(satisfaction_unique, k=2)\n",
        "\n",
        "# Filter for satisfaction_samp and clear unused categories from RelationshipSatisfaction\n",
        "satis_condition = attrition_pop['RelationshipSatisfaction'].isin(satisfaction_samp)\n",
        "attrition_clust_prep = attrition_pop[satis_condition]\n",
        "attrition_clust_prep['RelationshipSatisfaction'] = attrition_clust_prep['RelationshipSatisfaction']\\\n",
        "  .cat.remove_unused_categories()\n",
        "\n",
        "# Perform cluster sampling on the selected group, getting 0.25 of attrition_pop\n",
        "attrition_clust = attrition_clust_prep.groupby(\"RelationshipSatisfaction\")\\\n",
        "  .sample(n=len(attrition_pop) // 4, random_state=2022)"
      ],
      "metadata": {
        "id": "TgQE9wnllMzo"
      },
      "execution_count": null,
      "outputs": []
    },
    {
      "cell_type": "markdown",
      "source": [
        "Now that we have three types of sample (simple, stratified, and cluster), we can compare point estimates from each sample to the population parameter. That is, we can calculate the same summary statistic on each sample and see how it compares to the summary statistic for the population.\n",
        "\n",
        "Here, we'll look at how satisfaction with the company affects whether or not the employee leaves the company. That is, we'll calculate the proportion of employees who left the company (they have an Attrition value of 1) for each value of `RelationshipSatisfaction`.\n",
        "\n",
        "\n",
        "*   Group attrition_pop by RelationshipSatisfaction levels and calculate the mean of Attrition for each level.\n",
        "\n",
        "\n",
        "*   Calculate the proportion of employee attrition for each relationship satisfaction group, this time on the simple random sample, attrition_srs.\n",
        "\n",
        "\n",
        "*   Calculate the proportion of employee attrition for each relationship satisfaction group, this time on the stratified sample, attrition_strat.\n",
        "\n",
        "\n",
        "*   Calculate the proportion of employee attrition for each relationship satisfaction group, this time on the cluster sample, attrition_clust.\n",
        "\n",
        "\n",
        "\n"
      ],
      "metadata": {
        "id": "VRI3gzuUl3T-"
      }
    },
    {
      "cell_type": "code",
      "source": [
        "# Mean Attrition by RelationshipSatisfaction group\n",
        "mean_attrition_pop = attrition_pop.groupby('RelationshipSatisfaction')['Attrition'].mean()\n",
        "\n",
        "# Print the result\n",
        "print(mean_attrition_pop)"
      ],
      "metadata": {
        "colab": {
          "base_uri": "https://localhost:8080/"
        },
        "id": "DxKZVdUElsNH",
        "outputId": "c3b31526-7711-42b3-8bb9-4b188ad4116c"
      },
      "execution_count": 113,
      "outputs": [
        {
          "output_type": "stream",
          "name": "stdout",
          "text": [
            "RelationshipSatisfaction\n",
            "Low          0.206522\n",
            "Medium       0.148515\n",
            "High         0.154684\n",
            "Very_High    0.148148\n",
            "Name: Attrition, dtype: float64\n"
          ]
        }
      ]
    },
    {
      "cell_type": "code",
      "source": [
        "# Calculate the same thing for the simple random sample\n",
        "mean_attrition_srs = attrition_srs.groupby('RelationshipSatisfaction')\\\n",
        "    ['Attrition'].mean()\n",
        "\n",
        "# Print the result\n",
        "print(mean_attrition_srs)"
      ],
      "metadata": {
        "colab": {
          "base_uri": "https://localhost:8080/"
        },
        "id": "eihyer96mbpJ",
        "outputId": "c0466d86-f5d3-43a3-d20f-0844b7d99dd1"
      },
      "execution_count": 114,
      "outputs": [
        {
          "output_type": "stream",
          "name": "stdout",
          "text": [
            "RelationshipSatisfaction\n",
            "Low          0.134328\n",
            "Medium       0.164179\n",
            "High         0.160000\n",
            "Very_High    0.155963\n",
            "Name: Attrition, dtype: float64\n"
          ]
        }
      ]
    },
    {
      "cell_type": "code",
      "source": [
        "# Calculate the same thing for the stratified sample\n",
        "mean_attrition_strat = attrition_strat.groupby('RelationshipSatisfaction')\\\n",
        "    ['Attrition'].mean()\n",
        "\n",
        "# Print the result\n",
        "print(mean_attrition_strat)"
      ],
      "metadata": {
        "colab": {
          "base_uri": "https://localhost:8080/"
        },
        "id": "nHTM4YI9mfj9",
        "outputId": "d233fe5b-3b3f-498d-d788-d652d74e8e24"
      },
      "execution_count": 115,
      "outputs": [
        {
          "output_type": "stream",
          "name": "stdout",
          "text": [
            "RelationshipSatisfaction\n",
            "Low          0.144928\n",
            "Medium       0.078947\n",
            "High         0.165217\n",
            "Very_High    0.129630\n",
            "Name: Attrition, dtype: float64\n"
          ]
        }
      ]
    },
    {
      "cell_type": "code",
      "source": [
        "# Calculate the same thing for the cluster sample\n",
        "mean_attrition_clust = attrition_clust.groupby('RelationshipSatisfaction')\\\n",
        "    ['Attrition'].mean()\n",
        "\n",
        "# Print the result\n",
        "print(mean_attrition_clust)"
      ],
      "metadata": {
        "colab": {
          "base_uri": "https://localhost:8080/"
        },
        "id": "qSlDbDXymhf7",
        "outputId": "c19892ab-8424-44a0-8fde-fc895ecf9813"
      },
      "execution_count": 116,
      "outputs": [
        {
          "output_type": "stream",
          "name": "stdout",
          "text": [
            "RelationshipSatisfaction\n",
            "High         0.149864\n",
            "Very_High    0.160763\n",
            "Name: Attrition, dtype: float64\n"
          ]
        }
      ]
    },
    {
      "cell_type": "markdown",
      "source": [
        "The numbers are all fairly similar, with the notable exception that cluster sampling only gives results for the clusters included in the sample."
      ],
      "metadata": {
        "id": "SczfEKRHmzv1"
      }
    }
  ]
}