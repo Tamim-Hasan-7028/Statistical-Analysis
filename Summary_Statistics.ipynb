{
  "nbformat": 4,
  "nbformat_minor": 0,
  "metadata": {
    "colab": {
      "provenance": []
    },
    "kernelspec": {
      "name": "python3",
      "display_name": "Python 3"
    },
    "language_info": {
      "name": "python"
    }
  },
  "cells": [
    {
      "cell_type": "code",
      "source": [
        "import pandas as pd\n",
        "import numpy as np\n",
        "import matplotlib.pyplot as plt"
      ],
      "metadata": {
        "id": "JI7JZ9AVfKrF"
      },
      "execution_count": 27,
      "outputs": []
    },
    {
      "cell_type": "code",
      "source": [
        "from google.colab import drive\n",
        "drive.mount('/content/drive')"
      ],
      "metadata": {
        "colab": {
          "base_uri": "https://localhost:8080/"
        },
        "id": "P1-ViHo9fkLi",
        "outputId": "17c44612-ff44-4341-ae0e-ed6611c1bf85"
      },
      "execution_count": 28,
      "outputs": [
        {
          "output_type": "stream",
          "name": "stdout",
          "text": [
            "Drive already mounted at /content/drive; to attempt to forcibly remount, call drive.mount(\"/content/drive\", force_remount=True).\n"
          ]
        }
      ]
    },
    {
      "cell_type": "code",
      "source": [
        "food=pd.read_csv('/content/drive/MyDrive/Data/food_consumption.csv',index_col=0)\n",
        "print(food.head(33))"
      ],
      "metadata": {
        "colab": {
          "base_uri": "https://localhost:8080/"
        },
        "id": "VKoFb7gNfu_f",
        "outputId": "804f23fc-d9db-4abe-9e4d-f8b63f246171"
      },
      "execution_count": 29,
      "outputs": [
        {
          "output_type": "stream",
          "name": "stdout",
          "text": [
            "      country food_category  consumption  co2_emission\n",
            "1   Argentina          pork        10.51         37.20\n",
            "2   Argentina       poultry        38.66         41.53\n",
            "3   Argentina          beef        55.48       1712.00\n",
            "4   Argentina     lamb_goat         1.56         54.63\n",
            "5   Argentina          fish         4.36          6.96\n",
            "6   Argentina          eggs        11.39         10.46\n",
            "7   Argentina         dairy       195.08        277.87\n",
            "8   Argentina         wheat       103.11         19.66\n",
            "9   Argentina          rice         8.77         11.22\n",
            "10  Argentina      soybeans         0.00          0.00\n",
            "11  Argentina          nuts         0.49          0.87\n",
            "12  Australia          pork        24.14         85.44\n",
            "13  Australia       poultry        46.12         49.54\n",
            "14  Australia          beef        33.86       1044.85\n",
            "15  Australia     lamb_goat         9.87        345.65\n",
            "16  Australia          fish        17.69         28.25\n",
            "17  Australia          eggs         8.51          7.82\n",
            "18  Australia         dairy       234.49        334.01\n",
            "19  Australia         wheat        70.46         13.44\n",
            "20  Australia          rice        11.03         14.12\n",
            "21  Australia      soybeans         0.19          0.09\n",
            "22  Australia          nuts         8.73         15.45\n",
            "23    Albania          pork        10.88         38.51\n",
            "24    Albania       poultry        13.23         14.21\n",
            "25    Albania          beef        22.50        694.30\n",
            "26    Albania     lamb_goat        15.32        536.50\n",
            "27    Albania          fish         3.85          6.15\n",
            "28    Albania          eggs        12.45         11.44\n",
            "29    Albania         dairy       303.72        432.62\n",
            "30    Albania         wheat       138.64         26.44\n",
            "31    Albania          rice         7.78          9.96\n",
            "32    Albania      soybeans         0.00          0.00\n",
            "33    Albania          nuts         4.36          7.72\n"
          ]
        }
      ]
    },
    {
      "cell_type": "markdown",
      "source": [
        "# **Central Tendency**\n",
        "\n",
        "---\n",
        "\n",
        "\n",
        "\n",
        "### **Mean, Median, Mode**"
      ],
      "metadata": {
        "id": "sFeDsijceqe9"
      }
    },
    {
      "cell_type": "markdown",
      "source": [
        "1) Subset food for rows with data about Belgium and the USA.\n",
        "\n",
        "2) Group the subsetted data by country and select only the consumption column. Calculate the mean and median of the kilograms of food consumed per person per year in each country using .agg()."
      ],
      "metadata": {
        "id": "y0UmiUBJhCSh"
      }
    },
    {
      "cell_type": "code",
      "source": [
        "#1\n",
        "bel_usa=food[(food['country']=='Belgium')|(food['country']=='USA')]\n",
        "print(bel_usa)"
      ],
      "metadata": {
        "colab": {
          "base_uri": "https://localhost:8080/"
        },
        "id": "n_3y0r1MhkF7",
        "outputId": "a0c61b4b-2358-493a-fc2d-8527c77c63d6"
      },
      "execution_count": 30,
      "outputs": [
        {
          "output_type": "stream",
          "name": "stdout",
          "text": [
            "     country food_category  consumption  co2_emission\n",
            "56       USA          pork        27.64         97.83\n",
            "57       USA       poultry        50.01         53.72\n",
            "58       USA          beef        36.24       1118.29\n",
            "59       USA     lamb_goat         0.43         15.06\n",
            "60       USA          fish        12.35         19.72\n",
            "61       USA          eggs        14.58         13.39\n",
            "62       USA         dairy       254.69        362.78\n",
            "63       USA         wheat        80.43         15.34\n",
            "64       USA          rice         6.88          8.80\n",
            "65       USA      soybeans         0.04          0.02\n",
            "66       USA          nuts         7.86         13.91\n",
            "397  Belgium          pork        38.65        136.80\n",
            "398  Belgium       poultry        12.20         13.11\n",
            "399  Belgium          beef        15.63        482.31\n",
            "400  Belgium     lamb_goat         1.32         46.23\n",
            "401  Belgium          fish        18.97         30.29\n",
            "402  Belgium          eggs        12.59         11.57\n",
            "403  Belgium         dairy       236.19        336.43\n",
            "404  Belgium         wheat       111.91         21.34\n",
            "405  Belgium          rice         8.61         11.02\n",
            "406  Belgium      soybeans         0.07          0.03\n",
            "407  Belgium          nuts         7.32         12.96\n"
          ]
        }
      ]
    },
    {
      "cell_type": "code",
      "source": [
        "#2\n",
        "print(bel_usa.groupby('country')['consumption'].agg([np.mean,np.median]))"
      ],
      "metadata": {
        "colab": {
          "base_uri": "https://localhost:8080/"
        },
        "id": "fgPBl1riieLX",
        "outputId": "bcddde0b-3a26-4c0c-b59e-df86ae4f93cb"
      },
      "execution_count": 31,
      "outputs": [
        {
          "output_type": "stream",
          "name": "stdout",
          "text": [
            "              mean  median\n",
            "country                   \n",
            "Belgium  42.132727   12.59\n",
            "USA      44.650000   14.58\n"
          ]
        }
      ]
    },
    {
      "cell_type": "markdown",
      "source": [
        "## **Mean vs Median**\n",
        "\n",
        "1) Subset food to get the rows where food_category is 'rice'. Create a histogram of co2_emission for rice and show the plot.\n",
        "\n",
        "2) Use .agg() to calculate the mean and median of co2_emission for rice."
      ],
      "metadata": {
        "id": "AXrgKzn5jI7F"
      }
    },
    {
      "cell_type": "code",
      "source": [
        "#1\n",
        "rice_co2=food[food['food_category']=='rice']['co2_emission']\n",
        "rice_co2.hist()\n",
        "plt.show()"
      ],
      "metadata": {
        "colab": {
          "base_uri": "https://localhost:8080/",
          "height": 267
        },
        "id": "a6rL1utVjmK7",
        "outputId": "54f456f0-d2a1-4d1a-a09f-b89cdfd91589"
      },
      "execution_count": 32,
      "outputs": [
        {
          "output_type": "display_data",
          "data": {
            "text/plain": [
              "<Figure size 432x288 with 1 Axes>"
            ],
            "image/png": "[encoded data removed]"
          },
          "metadata": {
            "needs_background": "light"
          }
        }
      ]
    },
    {
      "cell_type": "markdown",
      "source": [
        "Remember that left-skewed means the data has a tail on the left side and is piled up higher on the right and vice varsa. So this is a right-skewed."
      ],
      "metadata": {
        "id": "6vLGU_xGlI4t"
      }
    },
    {
      "cell_type": "code",
      "source": [
        "#2\n",
        "print(rice_co2.agg([np.mean,np.median]))"
      ],
      "metadata": {
        "colab": {
          "base_uri": "https://localhost:8080/"
        },
        "id": "lQw8MAqClcWf",
        "outputId": "c1700615-6fa1-4d2d-9744-3f9d2075154a"
      },
      "execution_count": 33,
      "outputs": [
        {
          "output_type": "stream",
          "name": "stdout",
          "text": [
            "mean      37.591615\n",
            "median    15.200000\n",
            "Name: co2_emission, dtype: float64\n"
          ]
        }
      ]
    },
    {
      "cell_type": "markdown",
      "source": [
        "So, Median is best central tendency to summarize this left-skewed data."
      ],
      "metadata": {
        "id": "GNlB4cRLt7SR"
      }
    },
    {
      "cell_type": "markdown",
      "source": [
        "# **Measure of Dispersion**\n",
        "\n",
        "---\n",
        "\n"
      ],
      "metadata": {
        "id": "7XarItc4yNIj"
      }
    },
    {
      "cell_type": "markdown",
      "source": [
        "# **Quantile**\n",
        "\n",
        "Quartile= dataset split into 4 parts.\n",
        "\n",
        "Quintile= dataset split into 5 parts.\n",
        "\n",
        "Decile= dataset split into 10 parts.\n",
        "\n",
        "Percentile= dataset split into 100 parts.\n",
        "\n",
        "### **Quantiles using np.linspace()**\n",
        "\n",
        "`np.linspace(start, stop, num)`"
      ],
      "metadata": {
        "id": "4Qhe4I1Um6xX"
      }
    },
    {
      "cell_type": "markdown",
      "source": [
        "1)Calculate the quartiles of the co2_emission column of food.\n",
        "\n",
        "2) Calculate the six quantiles that split up the data into 5 pieces (quintiles) of the co2_emission column of food.\n",
        "\n",
        "3) Calculate the eleven quantiles of co2_emission that split up the data into ten pieces (deciles).\n",
        "\n",
        "4) Compute the first, second and third quartiles of the co2_emission column of food."
      ],
      "metadata": {
        "id": "LPGVlPH2oV8N"
      }
    },
    {
      "cell_type": "code",
      "source": [
        "#1 quartile is 4 parts\n",
        "print(np.quantile(food['co2_emission'],np.linspace(0,1,5)))"
      ],
      "metadata": {
        "colab": {
          "base_uri": "https://localhost:8080/"
        },
        "id": "Wkn_lrsvoMnw",
        "outputId": "f2201cd4-f864-44c7-bb05-7672b0ea41fd"
      },
      "execution_count": 34,
      "outputs": [
        {
          "output_type": "stream",
          "name": "stdout",
          "text": [
            "[   0.        5.21     16.53     62.5975 1712.    ]\n"
          ]
        }
      ]
    },
    {
      "cell_type": "code",
      "source": [
        "#2 quintile is 5 parts\n",
        "print(np.quantile(food['co2_emission'],np.linspace(0,1,6)))"
      ],
      "metadata": {
        "colab": {
          "base_uri": "https://localhost:8080/"
        },
        "id": "YuHUUB0DpQSC",
        "outputId": "7c788ae7-3e22-4074-acb0-1a1eadb99ce5"
      },
      "execution_count": 35,
      "outputs": [
        {
          "output_type": "stream",
          "name": "stdout",
          "text": [
            "[   0.       3.54    11.026   25.59    99.978 1712.   ]\n"
          ]
        }
      ]
    },
    {
      "cell_type": "code",
      "source": [
        "#3 decile is 10 parts\n",
        "print(np.quantile(food['co2_emission'],np.linspace(0,1,11)))"
      ],
      "metadata": {
        "colab": {
          "base_uri": "https://localhost:8080/"
        },
        "id": "3YXKMaJXpk41",
        "outputId": "80cbe68b-c906-4c0f-9f92-275dde3f33f6"
      },
      "execution_count": 36,
      "outputs": [
        {
          "output_type": "stream",
          "name": "stdout",
          "text": [
            "[0.00000e+00 6.68000e-01 3.54000e+00 7.04000e+00 1.10260e+01 1.65300e+01\n",
            " 2.55900e+01 4.42710e+01 9.99780e+01 2.03629e+02 1.71200e+03]\n"
          ]
        }
      ]
    },
    {
      "cell_type": "code",
      "source": [
        "#4 1st, 2nd, 3rd quartile\n",
        "print('q1=',np.quantile(food['co2_emission'],0.25))\n",
        "print('q2=',np.quantile(food['co2_emission'],0.5))\n",
        "print('q3=',np.quantile(food['co2_emission'],0.75))"
      ],
      "metadata": {
        "colab": {
          "base_uri": "https://localhost:8080/"
        },
        "id": "Hz2Uivf9qr7o",
        "outputId": "ef474f30-cf68-41da-f17f-17d3f39c742e"
      },
      "execution_count": 37,
      "outputs": [
        {
          "output_type": "stream",
          "name": "stdout",
          "text": [
            "q1= 5.21\n",
            "q2= 16.53\n",
            "q3= 62.597500000000004\n"
          ]
        }
      ]
    },
    {
      "cell_type": "markdown",
      "source": [
        "# **Variance & Standard Deviation**\n",
        "\n",
        "---\n",
        "\n"
      ],
      "metadata": {
        "id": "UzCiCR8btkyH"
      }
    },
    {
      "cell_type": "markdown",
      "source": [
        "1) Calculate the variance and standard deviation of co2_emission for each food_category by grouping and aggregating.\n",
        "\n",
        "2) Create a histogram of co2_emission for the beef food_category and show the plot.\n",
        "\n",
        "3) Create a histogram of co2_emission for the eggs food_category and show the plot."
      ],
      "metadata": {
        "id": "SOd3k4N0tZnI"
      }
    },
    {
      "cell_type": "code",
      "source": [
        "#1\n",
        "print(food.groupby('food_category')['co2_emission'].agg([np.var,np.std]))"
      ],
      "metadata": {
        "colab": {
          "base_uri": "https://localhost:8080/"
        },
        "id": "geklgRm-tjBX",
        "outputId": "b60e8cb4-99af-401a-9c77-64079b032d21"
      },
      "execution_count": 39,
      "outputs": [
        {
          "output_type": "stream",
          "name": "stdout",
          "text": [
            "                        var         std\n",
            "food_category                          \n",
            "beef           88748.408132  297.906710\n",
            "dairy          17671.891985  132.935669\n",
            "eggs              21.371819    4.622966\n",
            "fish             921.637349   30.358481\n",
            "lamb_goat      16475.518363  128.356996\n",
            "nuts              35.639652    5.969895\n",
            "pork            3094.963537   55.632396\n",
            "poultry          245.026801   15.653332\n",
            "rice            2281.376243   47.763754\n",
            "soybeans           0.879882    0.938020\n",
            "wheat             71.023937    8.427570\n"
          ]
        }
      ]
    },
    {
      "cell_type": "code",
      "source": [
        "#2\n",
        "food[food['food_category']=='beef']['co2_emission'].hist()\n",
        "plt.show()"
      ],
      "metadata": {
        "colab": {
          "base_uri": "https://localhost:8080/",
          "height": 265
        },
        "id": "yeDX5tMH3Sly",
        "outputId": "7b18fa45-cb46-46a8-8424-3b7011a15d9d"
      },
      "execution_count": 40,
      "outputs": [
        {
          "output_type": "display_data",
          "data": {
            "text/plain": [
              "<Figure size 432x288 with 1 Axes>"
            ],
            "image/png": "[encoded data removed]"
          },
          "metadata": {
            "needs_background": "light"
          }
        }
      ]
    },
    {
      "cell_type": "code",
      "source": [
        "#3\n",
        "food[food['food_category']=='eggs']['co2_emission'].hist()\n",
        "plt.show()"
      ],
      "metadata": {
        "colab": {
          "base_uri": "https://localhost:8080/",
          "height": 265
        },
        "id": "6taidsgT3k7R",
        "outputId": "0a4e2bf4-53fa-4e68-dd79-dd519260ca54"
      },
      "execution_count": 41,
      "outputs": [
        {
          "output_type": "display_data",
          "data": {
            "text/plain": [
              "<Figure size 432x288 with 1 Axes>"
            ],
            "image/png": "[encoded data removed]"
          },
          "metadata": {
            "needs_background": "light"
          }
        }
      ]
    },
    {
      "cell_type": "markdown",
      "source": [
        "# **Finding outliers using IQR**\n",
        "\n",
        "---\n",
        "\n",
        "### **Interquartile range (IQR)**\n",
        "\n",
        "Height of the box in a boxplot. \n",
        "\n",
        "**IQR = 3rd quartile - 1st quartile**\n",
        "\n",
        "\n",
        "---\n",
        "\n",
        "\n",
        "\n",
        "## **Outliers**\n",
        "\n",
        "---\n",
        "\n",
        "\n",
        "Data point that is substantially different from the others. \n",
        "\n",
        "How do we know what a substantial difference is? \n",
        "\n",
        "A data point is an outlier if: \n",
        "\n",
        "`data < Q1 − 1.5 × IQR or data > Q3 + 1.5 × IQR`\n",
        "\n",
        "**Steps for finding outliers are:**\n",
        "\n",
        "1) Find 1st & 3rd Quartile of a selected column_name\n",
        "\n",
        "2) Find IQR = Q3 - Q1 of the column_name\n",
        "\n",
        "3) Find lower & upper cutoffs:\n",
        "\n",
        "    lower=Q1-1.5 * IQR\n",
        "    upper=Q3+1.5 * IQR\n",
        "4) Subset row of that column_name:\n",
        "\n",
        "    df[(df['column_name']<lower) | (df['column_name']>upper)]"
      ],
      "metadata": {
        "id": "JUSa4ClP38k0"
      }
    },
    {
      "cell_type": "markdown",
      "source": [
        "\n",
        "\n",
        "---\n",
        "\n",
        "\n",
        "1) Find out the total co2 emission by every country.\n",
        "\n",
        "2) Find out the outliers in total co2 emission by every country if there is any."
      ],
      "metadata": {
        "id": "SW4fuqxT7CAY"
      }
    },
    {
      "cell_type": "code",
      "source": [
        "#1\n",
        "total_co2=food.groupby('country')['co2_emission'].agg(np.sum)\n",
        "print(total_co2.to_string())"
      ],
      "metadata": {
        "colab": {
          "base_uri": "https://localhost:8080/"
        },
        "id": "relR-Sou7fXv",
        "outputId": "8c94e0ff-c79a-4393-bdd0-cacae7b98147"
      },
      "execution_count": 43,
      "outputs": [
        {
          "output_type": "stream",
          "name": "stdout",
          "text": [
            "country\n",
            "Albania                   1777.85\n",
            "Algeria                    707.88\n",
            "Angola                     412.99\n",
            "Argentina                 2172.40\n",
            "Armenia                   1109.93\n",
            "Australia                 1938.66\n",
            "Austria                   1211.16\n",
            "Bahamas                   1192.90\n",
            "Bangladesh                 374.18\n",
            "Barbados                   889.11\n",
            "Belarus                    960.22\n",
            "Belgium                   1102.09\n",
            "Belize                     433.08\n",
            "Bermuda                   1483.28\n",
            "Bolivia                    873.03\n",
            "Bosnia and Herzegovina     628.18\n",
            "Botswana                   576.84\n",
            "Brazil                    1616.73\n",
            "Bulgaria                   560.16\n",
            "Cambodia                   452.41\n",
            "Cameroon                   283.61\n",
            "Canada                    1437.16\n",
            "Chile                     1099.57\n",
            "China                      640.19\n",
            "Colombia                   781.53\n",
            "Congo                      262.55\n",
            "Costa Rica                 891.27\n",
            "Croatia                    996.15\n",
            "Cuba                       591.69\n",
            "Cyprus                     741.37\n",
            "Czech Republic             760.09\n",
            "Denmark                   1498.18\n",
            "Ecuador                    883.88\n",
            "Egypt                      673.92\n",
            "El Salvador                434.04\n",
            "Estonia                    830.72\n",
            "Ethiopia                   241.92\n",
            "Fiji                       716.09\n",
            "Finland                   1464.63\n",
            "France                    1420.05\n",
            "French Polynesia          1424.69\n",
            "Gambia                     293.66\n",
            "Georgia                    527.03\n",
            "Germany                   1066.29\n",
            "Ghana                      217.87\n",
            "Greece                    1497.29\n",
            "Grenada                    439.85\n",
            "Guatemala                  314.98\n",
            "Guinea                     432.71\n",
            "Honduras                   434.08\n",
            "Hong Kong SAR. China      1494.28\n",
            "Hungary                    576.79\n",
            "Iceland                   1731.36\n",
            "India                      282.62\n",
            "Indonesia                  367.51\n",
            "Iran                       445.27\n",
            "Ireland                   1459.67\n",
            "Israel                    1405.71\n",
            "Italy                     1206.33\n",
            "Jamaica                    450.83\n",
            "Japan                      644.04\n",
            "Jordan                     587.96\n",
            "Kazakhstan                1575.08\n",
            "Kenya                      530.84\n",
            "Kuwait                    1345.44\n",
            "Latvia                     633.58\n",
            "Liberia                    203.38\n",
            "Lithuania                  868.90\n",
            "Luxembourg                1598.41\n",
            "Macedonia                  600.75\n",
            "Madagascar                 440.75\n",
            "Malawi                     207.94\n",
            "Malaysia                   554.64\n",
            "Maldives                   903.46\n",
            "Malta                     1147.91\n",
            "Mauritius                  672.07\n",
            "Mexico                     797.13\n",
            "Morocco                    576.42\n",
            "Mozambique                 141.40\n",
            "Myanmar                    563.80\n",
            "Namibia                    362.11\n",
            "Nepal                      526.22\n",
            "Netherlands               1292.82\n",
            "New Caledonia              918.62\n",
            "New Zealand               1750.95\n",
            "Nicaragua                  377.69\n",
            "Niger                      542.89\n",
            "Nigeria                    267.79\n",
            "Norway                    1381.89\n",
            "Oman                      1296.70\n",
            "Pakistan                   669.07\n",
            "Panama                     928.46\n",
            "Paraguay                   876.67\n",
            "Peru                       402.84\n",
            "Philippines                455.28\n",
            "Poland                     607.40\n",
            "Portugal                  1174.28\n",
            "Romania                    766.30\n",
            "Russia                    1007.66\n",
            "Rwanda                     181.63\n",
            "Saudi Arabia               692.86\n",
            "Senegal                    469.43\n",
            "Serbia                     723.34\n",
            "Sierra Leone               300.41\n",
            "Slovakia                   560.34\n",
            "Slovenia                  1111.56\n",
            "South Africa               892.41\n",
            "South Korea                822.05\n",
            "Spain                      988.47\n",
            "Sri Lanka                  294.46\n",
            "Swaziland                  678.94\n",
            "Sweden                    1527.03\n",
            "Switzerland               1356.75\n",
            "Taiwan. ROC                559.55\n",
            "Tanzania                   343.02\n",
            "Thailand                   378.00\n",
            "Togo                       188.09\n",
            "Trinidad and Tobago        610.41\n",
            "Tunisia                    618.89\n",
            "Turkey                     897.01\n",
            "USA                       1718.86\n",
            "Uganda                     304.72\n",
            "Ukraine                    665.73\n",
            "United Arab Emirates       897.32\n",
            "United Kingdom            1241.63\n",
            "Uruguay                   1634.91\n",
            "Venezuela                 1104.10\n",
            "Vietnam                    641.51\n",
            "Zambia                     225.30\n",
            "Zimbabwe                   350.33\n"
          ]
        }
      ]
    },
    {
      "cell_type": "code",
      "source": [
        "#2 finding outliers\n",
        "Q1=np.quantile(total_co2,0.25)\n",
        "print('Q1=',Q1)\n",
        "Q3=np.quantile(total_co2,0.75)\n",
        "print('Q3=',Q3)\n",
        "iqr=Q3-Q1\n",
        "print('iqr=',iqr)"
      ],
      "metadata": {
        "colab": {
          "base_uri": "https://localhost:8080/"
        },
        "id": "i_iA3WAJ74ZT",
        "outputId": "a4fb390e-79ec-4449-b867-3bfc771c1cf6"
      },
      "execution_count": 46,
      "outputs": [
        {
          "output_type": "stream",
          "name": "stdout",
          "text": [
            "Q1= 446.66\n",
            "Q3= 1111.1525000000001\n",
            "iqr= 664.4925000000001\n"
          ]
        }
      ]
    },
    {
      "cell_type": "code",
      "source": [
        "plt.boxplot(total_co2)\n",
        "plt.show()"
      ],
      "metadata": {
        "colab": {
          "base_uri": "https://localhost:8080/",
          "height": 267
        },
        "id": "7kLE4BkyMn9A",
        "outputId": "3385b873-9c28-4ae9-bfaa-d7b91b6bc426"
      },
      "execution_count": 55,
      "outputs": [
        {
          "output_type": "display_data",
          "data": {
            "text/plain": [
              "<Figure size 432x288 with 1 Axes>"
            ],
            "image/png": "[encoded data removed]"
          },
          "metadata": {
            "needs_background": "light"
          }
        }
      ]
    },
    {
      "cell_type": "code",
      "source": [
        "# Calculate the lower and upper cutoffs for outliers\n",
        "lower=Q1-1.5*iqr\n",
        "upper=Q3+1.5*iqr\n",
        "\n",
        "# Subset total_co2 to find outliers\n",
        "outliers=total_co2[(total_co2<lower)|(total_co2>upper)]\n",
        "print(outliers)"
      ],
      "metadata": {
        "colab": {
          "base_uri": "https://localhost:8080/"
        },
        "id": "RVeZWF_b8_lI",
        "outputId": "015c9728-9a9d-4b65-9977-c59128abc48b"
      },
      "execution_count": 47,
      "outputs": [
        {
          "output_type": "stream",
          "name": "stdout",
          "text": [
            "country\n",
            "Argentina    2172.4\n",
            "Name: co2_emission, dtype: float64\n"
          ]
        }
      ]
    },
    {
      "cell_type": "markdown",
      "source": [
        "## **Is there any outliers in total consumptions according to country?**"
      ],
      "metadata": {
        "id": "mib3LeBWJ-pj"
      }
    },
    {
      "cell_type": "code",
      "source": [
        "consum=food.groupby('country')['consumption'].agg(np.sum)\n",
        "print(consum)"
      ],
      "metadata": {
        "colab": {
          "base_uri": "https://localhost:8080/"
        },
        "id": "ozIlMkpqKLcp",
        "outputId": "3de538d7-68ba-430e-cb05-b43b19ab74e5"
      },
      "execution_count": 48,
      "outputs": [
        {
          "output_type": "stream",
          "name": "stdout",
          "text": [
            "country\n",
            "Albania      532.73\n",
            "Algeria      364.51\n",
            "Angola       115.99\n",
            "Argentina    429.41\n",
            "Armenia      407.11\n",
            "              ...  \n",
            "Uruguay      433.60\n",
            "Venezuela    277.39\n",
            "Vietnam      268.74\n",
            "Zambia        57.11\n",
            "Zimbabwe      96.56\n",
            "Name: consumption, Length: 130, dtype: float64\n"
          ]
        }
      ]
    },
    {
      "cell_type": "code",
      "source": [
        "q_1=np.quantile(consum,0.25)\n",
        "print(q_1)\n",
        "q_3=np.quantile(consum,0.75)\n",
        "print(q_3)\n",
        "Iqr=q_3-q_1\n",
        "print(Iqr)"
      ],
      "metadata": {
        "colab": {
          "base_uri": "https://localhost:8080/"
        },
        "id": "-GwEbwCcK5mB",
        "outputId": "75d6aa8a-4c53-4a6d-8b53-699d4e6af52b"
      },
      "execution_count": 51,
      "outputs": [
        {
          "output_type": "stream",
          "name": "stdout",
          "text": [
            "213.105\n",
            "422.6525\n",
            "209.54749999999999\n"
          ]
        }
      ]
    },
    {
      "cell_type": "code",
      "source": [
        "plt.boxplot(consum)\n",
        "plt.show()"
      ],
      "metadata": {
        "colab": {
          "base_uri": "https://localhost:8080/",
          "height": 265
        },
        "id": "G97fuRgIMY85",
        "outputId": "424c9b6a-a692-4b68-cf42-2b6a67630264"
      },
      "execution_count": 53,
      "outputs": [
        {
          "output_type": "display_data",
          "data": {
            "text/plain": [
              "<Figure size 432x288 with 1 Axes>"
            ],
            "image/png": "[encoded data removed]"
          },
          "metadata": {
            "needs_background": "light"
          }
        }
      ]
    },
    {
      "cell_type": "code",
      "source": [
        "low=q_1-1.5*Iqr\n",
        "up=q_3+1.5*Iqr\n",
        "Outlier=consum[(consum<low)|(consum>up)]\n",
        "print(Outlier)"
      ],
      "metadata": {
        "colab": {
          "base_uri": "https://localhost:8080/"
        },
        "id": "dDhd_xVMLksX",
        "outputId": "223f3086-635b-4de1-ab2d-67ce68a68048"
      },
      "execution_count": 56,
      "outputs": [
        {
          "output_type": "stream",
          "name": "stdout",
          "text": [
            "Series([], Name: consumption, dtype: float64)\n"
          ]
        }
      ]
    },
    {
      "cell_type": "markdown",
      "source": [
        "So, there is no outliers in consumption column."
      ],
      "metadata": {
        "id": "ioy6fKPmM3pA"
      }
    }
  ]
}