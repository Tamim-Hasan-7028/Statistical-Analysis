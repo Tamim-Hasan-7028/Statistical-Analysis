{
  "nbformat": 4,
  "nbformat_minor": 0,
  "metadata": {
    "colab": {
      "provenance": []
    },
    "kernelspec": {
      "name": "python3",
      "display_name": "Python 3"
    },
    "language_info": {
      "name": "python"
    }
  },
  "cells": [
    {
      "cell_type": "markdown",
      "source": [
        "### **The central limit theorem states that a sampling distribution of a sample statistic approaches the normal distribution as you take more samples, no matter the original distribution being sampled from.**\n",
        "\n",
        "In this exercise, you'll focus on the sample mean and see the central limit theorem in action while examining the **num_users** column of **amir** more closely, which contains the number of people who intend to use the product Amir is selling.\n",
        "\n",
        "-Create a histogram of the num_users column of amir_deals and show the plot.\n",
        "\n",
        "-Set the seed to 104.\n",
        "Take a sample of size 20 with replacement from the num_users column of amir_deals, and take the mean.\n",
        "\n",
        "-Repeat this 100 times using a for loop and store as sample_means. This will take 100 different samples and calculate the mean of each.\n",
        "\n",
        "-Convert sample_means into a pd.Series, create a histogram of the sample_means, and show the plot.\n",
        "\n",
        "-Find mean of means and compare them."
      ],
      "metadata": {
        "id": "m4YJVJhpv0P0"
      }
    },
    {
      "cell_type": "code",
      "source": [
        "import pandas as pd\n",
        "import numpy as np\n",
        "import matplotlib.pyplot as plt"
      ],
      "metadata": {
        "id": "UF1JkGb9wOxp"
      },
      "execution_count": 1,
      "outputs": []
    },
    {
      "cell_type": "code",
      "source": [
        "from google.colab import drive\n",
        "drive.mount('/content/drive')"
      ],
      "metadata": {
        "colab": {
          "base_uri": "https://localhost:8080/"
        },
        "id": "asM-DT_Fw6e4",
        "outputId": "3a1b0652-c634-4e53-cde7-88d8aa9750ca"
      },
      "execution_count": 2,
      "outputs": [
        {
          "output_type": "stream",
          "name": "stdout",
          "text": [
            "Mounted at /content/drive\n"
          ]
        }
      ]
    },
    {
      "cell_type": "code",
      "source": [
        "amir=pd.read_csv('/content/drive/MyDrive/DataCamp/Data/amir_deals.csv',index_col=0)\n",
        "amir"
      ],
      "metadata": {
        "colab": {
          "base_uri": "https://localhost:8080/",
          "height": 423
        },
        "id": "_MKS9hvIw1wM",
        "outputId": "a9dd9ab5-19fd-4fd6-fc88-93261783b49b"
      },
      "execution_count": 5,
      "outputs": [
        {
          "output_type": "execute_result",
          "data": {
            "text/plain": [
              "       product   client status   amount  num_users\n",
              "1    Product F  Current    Won  7389.52         19\n",
              "2    Product C      New    Won  4493.01         43\n",
              "3    Product B      New    Won  5738.09         87\n",
              "4    Product I  Current    Won  2591.24         83\n",
              "5    Product E  Current    Won  6622.97         17\n",
              "..         ...      ...    ...      ...        ...\n",
              "174  Product A  Current   Lost  5835.32         23\n",
              "175  Product D  Current    Won  6377.50         12\n",
              "176  Product D  Current    Won  3537.61         28\n",
              "177  Product A  Current    Won  6448.07         34\n",
              "178  Product D      New   Lost  7320.05         72\n",
              "\n",
              "[178 rows x 5 columns]"
            ],
            "text/html": [
              "\n",
              "  <div id=\"df-68700cf7-db34-4f42-afe6-8ad62300c1b6\">\n",
              "    <div class=\"colab-df-container\">\n",
              "      <div>\n",
              "<style scoped>\n",
              "    .dataframe tbody tr th:only-of-type {\n",
              "        vertical-align: middle;\n",
              "    }\n",
              "\n",
              "    .dataframe tbody tr th {\n",
              "        vertical-align: top;\n",
              "    }\n",
              "\n",
              "    .dataframe thead th {\n",
              "        text-align: right;\n",
              "    }\n",
              "</style>\n",
              "<table border=\"1\" class=\"dataframe\">\n",
              "  <thead>\n",
              "    <tr style=\"text-align: right;\">\n",
              "      <th></th>\n",
              "      <th>product</th>\n",
              "      <th>client</th>\n",
              "      <th>status</th>\n",
              "      <th>amount</th>\n",
              "      <th>num_users</th>\n",
              "    </tr>\n",
              "  </thead>\n",
              "  <tbody>\n",
              "    <tr>\n",
              "      <th>1</th>\n",
              "      <td>Product F</td>\n",
              "      <td>Current</td>\n",
              "      <td>Won</td>\n",
              "      <td>7389.52</td>\n",
              "      <td>19</td>\n",
              "    </tr>\n",
              "    <tr>\n",
              "      <th>2</th>\n",
              "      <td>Product C</td>\n",
              "      <td>New</td>\n",
              "      <td>Won</td>\n",
              "      <td>4493.01</td>\n",
              "      <td>43</td>\n",
              "    </tr>\n",
              "    <tr>\n",
              "      <th>3</th>\n",
              "      <td>Product B</td>\n",
              "      <td>New</td>\n",
              "      <td>Won</td>\n",
              "      <td>5738.09</td>\n",
              "      <td>87</td>\n",
              "    </tr>\n",
              "    <tr>\n",
              "      <th>4</th>\n",
              "      <td>Product I</td>\n",
              "      <td>Current</td>\n",
              "      <td>Won</td>\n",
              "      <td>2591.24</td>\n",
              "      <td>83</td>\n",
              "    </tr>\n",
              "    <tr>\n",
              "      <th>5</th>\n",
              "      <td>Product E</td>\n",
              "      <td>Current</td>\n",
              "      <td>Won</td>\n",
              "      <td>6622.97</td>\n",
              "      <td>17</td>\n",
              "    </tr>\n",
              "    <tr>\n",
              "      <th>...</th>\n",
              "      <td>...</td>\n",
              "      <td>...</td>\n",
              "      <td>...</td>\n",
              "      <td>...</td>\n",
              "      <td>...</td>\n",
              "    </tr>\n",
              "    <tr>\n",
              "      <th>174</th>\n",
              "      <td>Product A</td>\n",
              "      <td>Current</td>\n",
              "      <td>Lost</td>\n",
              "      <td>5835.32</td>\n",
              "      <td>23</td>\n",
              "    </tr>\n",
              "    <tr>\n",
              "      <th>175</th>\n",
              "      <td>Product D</td>\n",
              "      <td>Current</td>\n",
              "      <td>Won</td>\n",
              "      <td>6377.50</td>\n",
              "      <td>12</td>\n",
              "    </tr>\n",
              "    <tr>\n",
              "      <th>176</th>\n",
              "      <td>Product D</td>\n",
              "      <td>Current</td>\n",
              "      <td>Won</td>\n",
              "      <td>3537.61</td>\n",
              "      <td>28</td>\n",
              "    </tr>\n",
              "    <tr>\n",
              "      <th>177</th>\n",
              "      <td>Product A</td>\n",
              "      <td>Current</td>\n",
              "      <td>Won</td>\n",
              "      <td>6448.07</td>\n",
              "      <td>34</td>\n",
              "    </tr>\n",
              "    <tr>\n",
              "      <th>178</th>\n",
              "      <td>Product D</td>\n",
              "      <td>New</td>\n",
              "      <td>Lost</td>\n",
              "      <td>7320.05</td>\n",
              "      <td>72</td>\n",
              "    </tr>\n",
              "  </tbody>\n",
              "</table>\n",
              "<p>178 rows × 5 columns</p>\n",
              "</div>\n",
              "      <button class=\"colab-df-convert\" onclick=\"convertToInteractive('df-68700cf7-db34-4f42-afe6-8ad62300c1b6')\"\n",
              "              title=\"Convert this dataframe to an interactive table.\"\n",
              "              style=\"display:none;\">\n",
              "        \n",
              "  <svg xmlns=\"http://www.w3.org/2000/svg\" height=\"24px\"viewBox=\"0 0 24 24\"\n",
              "       width=\"24px\">\n",
              "    <path d=\"M0 0h24v24H0V0z\" fill=\"none\"/>\n",
              "    <path d=\"M18.56 5.44l.94 2.06.94-2.06 2.06-.94-2.06-.94-.94-2.06-.94 2.06-2.06.94zm-11 1L8.5 8.5l.94-2.06 2.06-.94-2.06-.94L8.5 2.5l-.94 2.06-2.06.94zm10 10l.94 2.06.94-2.06 2.06-.94-2.06-.94-.94-2.06-.94 2.06-2.06.94z\"/><path d=\"M17.41 7.96l-1.37-1.37c-.4-.4-.92-.59-1.43-.59-.52 0-1.04.2-1.43.59L10.3 9.45l-7.72 7.72c-.78.78-.78 2.05 0 2.83L4 21.41c.39.39.9.59 1.41.59.51 0 1.02-.2 1.41-.59l7.78-7.78 2.81-2.81c.8-.78.8-2.07 0-2.86zM5.41 20L4 18.59l7.72-7.72 1.47 1.35L5.41 20z\"/>\n",
              "  </svg>\n",
              "      </button>\n",
              "      \n",
              "  <style>\n",
              "    .colab-df-container {\n",
              "      display:flex;\n",
              "      flex-wrap:wrap;\n",
              "      gap: 12px;\n",
              "    }\n",
              "\n",
              "    .colab-df-convert {\n",
              "      background-color: #E8F0FE;\n",
              "      border: none;\n",
              "      border-radius: 50%;\n",
              "      cursor: pointer;\n",
              "      display: none;\n",
              "      fill: #1967D2;\n",
              "      height: 32px;\n",
              "      padding: 0 0 0 0;\n",
              "      width: 32px;\n",
              "    }\n",
              "\n",
              "    .colab-df-convert:hover {\n",
              "      background-color: #E2EBFA;\n",
              "      box-shadow: 0px 1px 2px rgba(60, 64, 67, 0.3), 0px 1px 3px 1px rgba(60, 64, 67, 0.15);\n",
              "      fill: #174EA6;\n",
              "    }\n",
              "\n",
              "    [theme=dark] .colab-df-convert {\n",
              "      background-color: #3B4455;\n",
              "      fill: #D2E3FC;\n",
              "    }\n",
              "\n",
              "    [theme=dark] .colab-df-convert:hover {\n",
              "      background-color: #434B5C;\n",
              "      box-shadow: 0px 1px 3px 1px rgba(0, 0, 0, 0.15);\n",
              "      filter: drop-shadow(0px 1px 2px rgba(0, 0, 0, 0.3));\n",
              "      fill: #FFFFFF;\n",
              "    }\n",
              "  </style>\n",
              "\n",
              "      <script>\n",
              "        const buttonEl =\n",
              "          document.querySelector('#df-68700cf7-db34-4f42-afe6-8ad62300c1b6 button.colab-df-convert');\n",
              "        buttonEl.style.display =\n",
              "          google.colab.kernel.accessAllowed ? 'block' : 'none';\n",
              "\n",
              "        async function convertToInteractive(key) {\n",
              "          const element = document.querySelector('#df-68700cf7-db34-4f42-afe6-8ad62300c1b6');\n",
              "          const dataTable =\n",
              "            await google.colab.kernel.invokeFunction('convertToInteractive',\n",
              "                                                     [key], {});\n",
              "          if (!dataTable) return;\n",
              "\n",
              "          const docLinkHtml = 'Like what you see? Visit the ' +\n",
              "            '<a target=\"_blank\" href=https://colab.research.google.com/notebooks/data_table.ipynb>data table notebook</a>'\n",
              "            + ' to learn more about interactive tables.';\n",
              "          element.innerHTML = '';\n",
              "          dataTable['output_type'] = 'display_data';\n",
              "          await google.colab.output.renderOutput(dataTable, element);\n",
              "          const docLink = document.createElement('div');\n",
              "          docLink.innerHTML = docLinkHtml;\n",
              "          element.appendChild(docLink);\n",
              "        }\n",
              "      </script>\n",
              "    </div>\n",
              "  </div>\n",
              "  "
            ]
          },
          "metadata": {},
          "execution_count": 5
        }
      ]
    },
    {
      "cell_type": "code",
      "source": [
        "amir['num_users'].plot(kind='hist')\n",
        "plt.show()"
      ],
      "metadata": {
        "colab": {
          "base_uri": "https://localhost:8080/",
          "height": 265
        },
        "id": "xasmPBLXxVxj",
        "outputId": "eb8d7e0f-428b-4a9f-c820-e30b413dc55d"
      },
      "execution_count": 6,
      "outputs": [
        {
          "output_type": "display_data",
          "data": {
            "text/plain": [
              "<Figure size 432x288 with 1 Axes>"
            ],
            "image/png": "[encoded data removed]"
          },
          "metadata": {
            "needs_background": "light"
          }
        }
      ]
    },
    {
      "cell_type": "code",
      "source": [
        "np.random.seed(104)\n",
        "sample=[]\n",
        "for i in range(100):\n",
        "  sam_20=amir['num_users'].sample(20,replace=True)\n",
        "  sam_mean=np.mean(sam_20)\n",
        "  sample.append(sam_mean)\n",
        "sam=pd.Series(sample)\n",
        "plt.hist(sam)\n",
        "plt.show()"
      ],
      "metadata": {
        "colab": {
          "base_uri": "https://localhost:8080/",
          "height": 265
        },
        "id": "ITc9tTlJx0Ry",
        "outputId": "195f6aa0-bed5-4d47-bcf2-6643777e4985"
      },
      "execution_count": 9,
      "outputs": [
        {
          "output_type": "display_data",
          "data": {
            "text/plain": [
              "<Figure size 432x288 with 1 Axes>"
            ],
            "image/png": "[encoded data removed]"
          },
          "metadata": {
            "needs_background": "light"
          }
        }
      ]
    },
    {
      "cell_type": "markdown",
      "source": [
        "So, after ploting the 20 sample means, it follows normal distribution. This is CLT."
      ],
      "metadata": {
        "id": "GNDnTdDzzMvI"
      }
    },
    {
      "cell_type": "code",
      "source": [
        "print('mean of means in CLT:',np.mean(sample))\n",
        "print('mean of amirs num user:',np.mean(amir['num_users']))"
      ],
      "metadata": {
        "colab": {
          "base_uri": "https://localhost:8080/"
        },
        "id": "fHTlklpMz4BF",
        "outputId": "6ba193f3-44a4-4faa-f154-a95b704f72ba"
      },
      "execution_count": 13,
      "outputs": [
        {
          "output_type": "stream",
          "name": "stdout",
          "text": [
            "mean of means in CLT: 38.069\n",
            "mean of amirs num user: 37.651685393258425\n"
          ]
        }
      ]
    }
  ]
}