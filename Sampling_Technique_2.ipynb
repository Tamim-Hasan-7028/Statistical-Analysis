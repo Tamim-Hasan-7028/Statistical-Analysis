{
  "nbformat": 4,
  "nbformat_minor": 0,
  "metadata": {
    "colab": {
      "provenance": []
    },
    "kernelspec": {
      "name": "python3",
      "display_name": "Python 3"
    },
    "language_info": {
      "name": "python"
    }
  },
  "cells": [
    {
      "cell_type": "code",
      "execution_count": 82,
      "metadata": {
        "id": "G8r8lLfU8NmF"
      },
      "outputs": [],
      "source": [
        "import pandas as pd\n",
        "import numpy as np\n",
        "import matplotlib.pyplot as plt\n",
        "from scipy.stats import norm"
      ]
    },
    {
      "cell_type": "code",
      "source": [
        "pd.set_option('display.max_columns', None)"
      ],
      "metadata": {
        "id": "0Uu2aaOx88n-"
      },
      "execution_count": 83,
      "outputs": []
    },
    {
      "cell_type": "code",
      "source": [
        "attrition_pop=pd.read_feather('/content/drive/MyDrive/DataCamp/Python Track/Sampling/attrition.feather')\n",
        "print(attrition_pop.head())"
      ],
      "metadata": {
        "colab": {
          "base_uri": "https://localhost:8080/"
        },
        "id": "_6VUdIac9DNI",
        "outputId": "80d9a412-4d01-4716-ddf5-5a001545803e"
      },
      "execution_count": 84,
      "outputs": [
        {
          "output_type": "stream",
          "name": "stdout",
          "text": [
            "   Age  Attrition     BusinessTravel  DailyRate            Department  \\\n",
            "0   21        0.0      Travel_Rarely        391  Research_Development   \n",
            "1   19        1.0      Travel_Rarely        528                 Sales   \n",
            "2   18        1.0      Travel_Rarely        230  Research_Development   \n",
            "3   18        0.0      Travel_Rarely        812                 Sales   \n",
            "4   18        1.0  Travel_Frequently       1306                 Sales   \n",
            "\n",
            "   DistanceFromHome      Education EducationField EnvironmentSatisfaction  \\\n",
            "0                15        College  Life_Sciences                    High   \n",
            "1                22  Below_College      Marketing               Very_High   \n",
            "2                 3       Bachelor  Life_Sciences                    High   \n",
            "3                10       Bachelor        Medical               Very_High   \n",
            "4                 5       Bachelor      Marketing                  Medium   \n",
            "\n",
            "   Gender  HourlyRate JobInvolvement  JobLevel                JobRole  \\\n",
            "0    Male          96           High         1     Research_Scientist   \n",
            "1    Male          50           High         1   Sales_Representative   \n",
            "2    Male          54           High         1  Laboratory_Technician   \n",
            "3  Female          69         Medium         1   Sales_Representative   \n",
            "4    Male          69           High         1   Sales_Representative   \n",
            "\n",
            "  JobSatisfaction MaritalStatus  MonthlyIncome  MonthlyRate  \\\n",
            "0       Very_High        Single           1232        19281   \n",
            "1            High        Single           1675        26820   \n",
            "2            High        Single           1420        25233   \n",
            "3            High        Single           1200         9724   \n",
            "4          Medium        Single           1878         8059   \n",
            "\n",
            "   NumCompaniesWorked OverTime  PercentSalaryHike PerformanceRating  \\\n",
            "0                   1       No                 14         Excellent   \n",
            "1                   1      Yes                 19         Excellent   \n",
            "2                   1       No                 13         Excellent   \n",
            "3                   1       No                 12         Excellent   \n",
            "4                   1      Yes                 14         Excellent   \n",
            "\n",
            "  RelationshipSatisfaction  StockOptionLevel  TotalWorkingYears  \\\n",
            "0                Very_High                 0                  0   \n",
            "1                Very_High                 0                  0   \n",
            "2                     High                 0                  0   \n",
            "3                      Low                 0                  0   \n",
            "4                Very_High                 0                  0   \n",
            "\n",
            "   TrainingTimesLastYear WorkLifeBalance  YearsAtCompany  YearsInCurrentRole  \\\n",
            "0                      6          Better               0                   0   \n",
            "1                      2            Good               0                   0   \n",
            "2                      2          Better               0                   0   \n",
            "3                      2          Better               0                   0   \n",
            "4                      3          Better               0                   0   \n",
            "\n",
            "   YearsSinceLastPromotion  YearsWithCurrManager  \n",
            "0                        0                     0  \n",
            "1                        0                     0  \n",
            "2                        0                     0  \n",
            "3                        0                     0  \n",
            "4                        0                     0  \n"
          ]
        }
      ]
    },
    {
      "cell_type": "markdown",
      "source": [
        "# **Calculating relative errors**\n",
        "\n",
        "\n",
        "---\n",
        "\n",
        "\n",
        "\n",
        "The size of the sample you take affects how accurately the point estimates reflect the corresponding population parameter. For example, when you calculate a sample mean, you want it to be close to the population mean. However, if your sample is too small, this might not be the case.\n",
        "\n",
        "The most common metric for assessing accuracy is relative error. This is the absolute difference between the population parameter and the point estimate, all divided by the population parameter. It is sometimes expressed as a percentage.\n",
        "\n",
        "\n",
        "*   Generate a simple random sample from `attrition_pop` of fifty rows, setting the seed to 2022.\n",
        "Calculate the mean employee `Attrition` in the sample.\n",
        "Calculate the relative error between `mean_attrition_srs50` and `mean_attrition_pop` as a percentage.\n",
        "\n",
        "*   Calculate the relative error percentage again. This time, use a simple random sample of one hundred rows of `attrition_pop`.\n",
        "\n"
      ],
      "metadata": {
        "id": "cWqqHnIE9x1m"
      }
    },
    {
      "cell_type": "code",
      "source": [
        "mean_attrition_pop=attrition_pop['Attrition'].mean()\n",
        "std_attrition_pop=np.std(attrition_pop['Attrition'],ddof=0)"
      ],
      "metadata": {
        "id": "zXtISDZ4GV5q"
      },
      "execution_count": 85,
      "outputs": []
    },
    {
      "cell_type": "code",
      "source": [
        "# Generate a simple random sample of 50 rows, with seed 2022\n",
        "attrition_srs50 = attrition_pop.sample(n=50,random_state=2022)\n",
        "\n",
        "# Calculate the mean employee attrition in the sample\n",
        "mean_attrition_srs50 = attrition_srs50['Attrition'].mean()\n",
        "\n",
        "# Calculate the relative error percentage\n",
        "rel_error_pct50 = 100*abs(mean_attrition_pop-mean_attrition_srs50)/mean_attrition_pop\n",
        "\n",
        "# Print rel_error_pct50\n",
        "print(rel_error_pct50)"
      ],
      "metadata": {
        "colab": {
          "base_uri": "https://localhost:8080/"
        },
        "id": "e7HgLLJnGCaB",
        "outputId": "efd07a79-bbb4-4403-a8fa-e950b2271537"
      },
      "execution_count": 86,
      "outputs": [
        {
          "output_type": "stream",
          "name": "stdout",
          "text": [
            "62.78481012658227\n"
          ]
        }
      ]
    },
    {
      "cell_type": "code",
      "source": [
        "# Generate a simple random sample of 100 rows, with seed 2022\n",
        "attrition_srs100 = attrition_pop.sample(n=100,random_state=2022)\n",
        "\n",
        "# Calculate the mean employee attrition in the sample\n",
        "mean_attrition_srs100 = attrition_srs100['Attrition'].mean()\n",
        "\n",
        "# Calculate the relative error percentage\n",
        "rel_error_pct100 = 100*abs(mean_attrition_pop-mean_attrition_srs100)/mean_attrition_pop\n",
        "\n",
        "# Print rel_error_pct100\n",
        "print(rel_error_pct100)"
      ],
      "metadata": {
        "colab": {
          "base_uri": "https://localhost:8080/"
        },
        "id": "ye6y23xYGjlJ",
        "outputId": "a9eaffdf-e37b-4719-b1b5-d8149d6f2f92"
      },
      "execution_count": 87,
      "outputs": [
        {
          "output_type": "stream",
          "name": "stdout",
          "text": [
            "6.962025316455695\n"
          ]
        }
      ]
    },
    {
      "cell_type": "markdown",
      "source": [
        "As you increase the sample size, the sample mean generally gets closer to the population mean, and the relative error decreases."
      ],
      "metadata": {
        "id": "mBBOkh-yGpoV"
      }
    },
    {
      "cell_type": "markdown",
      "source": [
        "# **Replicating samples**\n",
        "\n",
        "When you calculate a point estimate such as a sample mean, the value you calculate depends on the rows that were included in the sample. That means that there is some randomness in the answer. In order to quantify the variation caused by this randomness, you can create many samples and calculate the sample mean (or another statistic) for each sample.\n",
        "\n",
        "*   Replicate the provided code so that it runs 500 times. Assign the resulting list of sample means to mean_attritions.\n",
        "*   Draw a histogram of the mean_attritions list with 16 bins.\n",
        "\n"
      ],
      "metadata": {
        "id": "1xVP0L-HG6eN"
      }
    },
    {
      "cell_type": "code",
      "source": [
        "# Create an empty list\n",
        "mean_attritions=[]\n",
        "# Loop 500 times to create 500 sample means\n",
        "for i in range(500):\n",
        "\tmean_attritions.append(\n",
        "    \tattrition_pop.sample(n=60)['Attrition'].mean()\n",
        "\t)\n",
        "\n",
        "# Print out the first few entries of the list\n",
        "print(mean_attritions[0:5])"
      ],
      "metadata": {
        "colab": {
          "base_uri": "https://localhost:8080/"
        },
        "id": "9phNDdfCHJCt",
        "outputId": "3e667da4-de2e-402c-e7ae-39c90f9c4534"
      },
      "execution_count": 88,
      "outputs": [
        {
          "output_type": "stream",
          "name": "stdout",
          "text": [
            "[0.08333333333333333, 0.21666666666666667, 0.25, 0.13333333333333333, 0.15]\n"
          ]
        }
      ]
    },
    {
      "cell_type": "code",
      "source": [
        "# Create a histogram of the 500 sample means\n",
        "plt.hist(mean_attritions,bins=16)\n",
        "plt.show()"
      ],
      "metadata": {
        "colab": {
          "base_uri": "https://localhost:8080/",
          "height": 430
        },
        "id": "smvw-LsdHR0A",
        "outputId": "760c18ab-20e4-45d1-d95d-80d44d583b2c"
      },
      "execution_count": 89,
      "outputs": [
        {
          "output_type": "display_data",
          "data": {
            "text/plain": [
              "<Figure size 640x480 with 1 Axes>"
            ],
            "image/png": "[encoded data removed]"
          },
          "metadata": {}
        }
      ]
    },
    {
      "cell_type": "markdown",
      "source": [
        "# **Population & sampling distribution means**\n",
        "\n",
        "One of the useful features of sampling distributions is that you can quantify them. Specifically, you can calculate summary statistics on them. Here, you'll look at the relationship between the mean of the sampling distribution and the population parameter's mean.\n",
        "\n",
        "Three sampling distributions are provided. For each, the employee attrition dataset was sampled using simple random sampling, then the mean attrition was calculated. This was done 1000 times to get a sampling distribution of mean attritions. One sampling distribution used a sample size of 5 for each replicate, one used 50, and one used 500.\n",
        "\n",
        "attrition_pop, sampling_distribution_5, sampling_distribution_50, and sampling_distribution_500 are available; numpy as np is loaded."
      ],
      "metadata": {
        "id": "jEiijSp5I2sk"
      }
    },
    {
      "cell_type": "code",
      "source": [
        "sampling_distribution_5=[]\n",
        "for i in range(1000):\n",
        "\tsampling_distribution_5.append(\n",
        "    \tattrition_pop.sample(n=5)['Attrition'].mean()\n",
        "\t)"
      ],
      "metadata": {
        "id": "kx6LwvetH3MV"
      },
      "execution_count": 90,
      "outputs": []
    },
    {
      "cell_type": "code",
      "source": [
        "sampling_distribution_50=[]\n",
        "for i in range(1000):\n",
        "\tsampling_distribution_50.append(\n",
        "    \tattrition_pop.sample(n=50)['Attrition'].mean()\n",
        "\t)"
      ],
      "metadata": {
        "id": "wkjpKKEuIi0Z"
      },
      "execution_count": 91,
      "outputs": []
    },
    {
      "cell_type": "code",
      "source": [
        "sampling_distribution_500=[]\n",
        "for i in range(1000):\n",
        "\tsampling_distribution_500.append(\n",
        "    \tattrition_pop.sample(n=500)['Attrition'].mean()\n",
        "\t)"
      ],
      "metadata": {
        "id": "P3X0uDnHIt5X"
      },
      "execution_count": 92,
      "outputs": []
    },
    {
      "cell_type": "markdown",
      "source": [
        "\n",
        "\n",
        "*   Calculate the mean of sampling_distribution_5, sampling_distribution_50, and sampling_distribution_500 (a mean of sample means).\n",
        "\n",
        "\n"
      ],
      "metadata": {
        "id": "9pu5-DcXI7d1"
      }
    },
    {
      "cell_type": "code",
      "source": [
        "# Calculate the mean of the mean attritions for each sampling distribution\n",
        "mean_of_means_5 = np.mean(sampling_distribution_5)\n",
        "mean_of_means_50 = np.mean(sampling_distribution_50)\n",
        "mean_of_means_500 = np.mean(sampling_distribution_500)\n",
        "\n",
        "# Print the results\n",
        "print(mean_attrition_pop)\n",
        "print(mean_of_means_5)\n",
        "print(mean_of_means_50)\n",
        "print(mean_of_means_500)"
      ],
      "metadata": {
        "colab": {
          "base_uri": "https://localhost:8080/"
        },
        "id": "CNQi_m49JBe4",
        "outputId": "3f04235c-f764-4ed7-e17e-eea6c65424e6"
      },
      "execution_count": 93,
      "outputs": [
        {
          "output_type": "stream",
          "name": "stdout",
          "text": [
            "0.16122448979591836\n",
            "0.15419999999999998\n",
            "0.15908000000000005\n",
            "0.161402\n"
          ]
        }
      ]
    },
    {
      "cell_type": "markdown",
      "source": [
        "# **Population & sampling distribution variation**\n",
        "\n",
        "You just calculated the mean of the sampling distribution and saw how it is an estimate of the corresponding population parameter. Similarly, as a result of the central limit theorem, the standard deviation of the sampling distribution has an interesting relationship with the population parameter's standard deviation and the sample size.\n",
        "\n",
        "*   Calculate the standard deviation of sampling_distribution_5, sampling_distribution_50, and sampling_distribution_500 (a standard deviation of sample means).\n",
        "\n"
      ],
      "metadata": {
        "id": "k-DHvIb_Jopm"
      }
    },
    {
      "cell_type": "code",
      "source": [
        "# Calculate the std. dev. of the mean attritions for each sampling distribution\n",
        "sd_of_means_5 = np.std(sampling_distribution_5,ddof=1)\n",
        "sd_of_means_50 = np.std(sampling_distribution_50,ddof=1)\n",
        "sd_of_means_500 = np.std(sampling_distribution_500,ddof=1)\n",
        "\n",
        "# Print the results\n",
        "print(std_attrition_pop)\n",
        "print(sd_of_means_5*np.sqrt(5))\n",
        "print(sd_of_means_50*np.sqrt(50))\n",
        "print(sd_of_means_500*np.sqrt(500))"
      ],
      "metadata": {
        "colab": {
          "base_uri": "https://localhost:8080/"
        },
        "id": "p_oIgcumJyky",
        "outputId": "919e1f69-38c6-47f2-eb6e-c947afec3b03"
      },
      "execution_count": 94,
      "outputs": [
        {
          "output_type": "stream",
          "name": "stdout",
          "text": [
            "0.367737887204955\n",
            "0.36255102157247227\n",
            "0.3532739482080196\n",
            "0.30548407244653286\n"
          ]
        }
      ]
    },
    {
      "cell_type": "markdown",
      "source": [
        "### **The standard deviations of the sampling distribution is approximately equal to the population standard deviation divided by the square root of the sample size.**\n",
        "\n",
        "### **And Efficiency=1/variance. So less std means better efficiency.**\n",
        "\n",
        "---\n",
        "\n"
      ],
      "metadata": {
        "id": "CGTFFr-oK6NG"
      }
    },
    {
      "cell_type": "markdown",
      "source": [
        "# **Generating a bootstrap distribution**\n",
        "\n",
        "\n",
        "---\n",
        "\n",
        "\n",
        "\n",
        "The process for generating a bootstrap distribution is similar to the process for generating a sampling distribution; only the first step is different.\n",
        "\n",
        "**To make a sampling distribution, you start with the population and sample without replacement. To make a bootstrap distribution, you start with a sample and sample that with replacement. After that, the steps are the same: calculate the summary statistic that you are interested in on that sample/resample, then replicate the process many times. In each case, you can visualize the distribution with a histogram.**\n",
        "\n",
        "Here, `spotify_sample` is a subset of the `spotify_population` dataset. To make it easier to see how resampling works, a row index column called 'index' has been added, and only the artist name, song name, and danceability columns have been included."
      ],
      "metadata": {
        "id": "n3NC3OeMLPDO"
      }
    },
    {
      "cell_type": "code",
      "source": [
        "spotify_population=pd.read_feather('/content/drive/MyDrive/DataCamp/Python Track/Sampling/spotify_2000_2020.feather')\n",
        "print(spotify_population)"
      ],
      "metadata": {
        "colab": {
          "base_uri": "https://localhost:8080/"
        },
        "id": "73tdzlL1NGT6",
        "outputId": "f4eaf841-a86c-4ec2-8ae9-7863396d1080"
      },
      "execution_count": 95,
      "outputs": [
        {
          "output_type": "stream",
          "name": "stdout",
          "text": [
            "       acousticness                             artists  danceability  \\\n",
            "0           0.97200                     ['David Bauer']         0.567   \n",
            "1           0.32100                      ['Etta James']         0.821   \n",
            "2           0.00659                       ['Quasimoto']         0.706   \n",
            "3           0.00390                     ['Millencolin']         0.368   \n",
            "4           0.12200                      ['Steve Chou']         0.501   \n",
            "...             ...                                 ...           ...   \n",
            "41651       0.17300              ['DripReport', 'Tyga']         0.875   \n",
            "41652       0.01670  ['Leon Bridges', 'Terrace Martin']         0.719   \n",
            "41653       0.53800               ['Kygo', 'Oh Wonder']         0.514   \n",
            "41654       0.07140       ['Cash Cash', 'Andy Grammer']         0.646   \n",
            "41655       0.10900                  ['Ingrid Andress']         0.512   \n",
            "\n",
            "       duration_ms  duration_minutes  energy  explicit  \\\n",
            "0         313293.0          5.221550   0.227       0.0   \n",
            "1         360240.0          6.004000   0.418       0.0   \n",
            "2         202507.0          3.375117   0.602       1.0   \n",
            "3         173360.0          2.889333   0.977       0.0   \n",
            "4         344200.0          5.736667   0.511       0.0   \n",
            "...            ...               ...     ...       ...   \n",
            "41651     163800.0          2.730000   0.443       1.0   \n",
            "41652     167468.0          2.791133   0.385       0.0   \n",
            "41653     180700.0          3.011667   0.539       0.0   \n",
            "41654     167308.0          2.788467   0.761       0.0   \n",
            "41655     214787.0          3.579783   0.428       0.0   \n",
            "\n",
            "                           id  instrumentalness   key  liveness  loudness  \\\n",
            "0      0w0D8H1ubRerCXHWYJkinO          0.601000  10.0    0.1100   -13.441   \n",
            "1      4JVeqfE2tpi7Pv63LJZtPh          0.000372   9.0    0.2220    -9.841   \n",
            "2      5pxtdhLAi0RTh1gNqhGMNA          0.000138  11.0    0.4000    -8.306   \n",
            "3      3jRsoe4Vkxa4BMYqGHX8L0          0.000000  11.0    0.3500    -2.757   \n",
            "4      4mronxcllhfyhBRqyZi8kU          0.000000   7.0    0.2790    -9.836   \n",
            "...                       ...               ...   ...       ...       ...   \n",
            "41651  4KppkflX7I3vJQk7urOJaS          0.000032   1.0    0.0891    -7.461   \n",
            "41652  1ehhGlTvjtHo2e4xJFB0SZ          0.031300   8.0    0.1110   -10.907   \n",
            "41653  52eycxprLhK3lPcRLbQiVk          0.002330   7.0    0.1080    -9.332   \n",
            "41654  3wYOGJYD31sLRmBgCvWxa4          0.000000   1.0    0.2220    -2.557   \n",
            "41655  60RFlt48hm0l4Fu0JoccOl          0.000000   0.0    0.1050    -7.387   \n",
            "\n",
            "       mode                            name  popularity release_date  \\\n",
            "0       1.0               Shout to the Lord        47.0         2000   \n",
            "1       0.0                        Miss You        51.0   2000-12-12   \n",
            "2       0.0                       Real Eyes        44.0   2000-06-13   \n",
            "3       0.0           Penguins & Polarbears        52.0   2000-02-22   \n",
            "4       0.0                              黃昏        53.0   2000-12-25   \n",
            "...     ...                             ...         ...          ...   \n",
            "41651   1.0   Skechers (feat. Tyga) - Remix        75.0   2020-05-15   \n",
            "41652   1.0  Sweeter (feat. Terrace Martin)        64.0   2020-06-08   \n",
            "41653   1.0                How Would I Know        70.0   2020-05-29   \n",
            "41654   1.0                     I Found You        70.0   2020-02-28   \n",
            "41655   1.0           More Hearts Than Mine        65.0   2020-03-27   \n",
            "\n",
            "       speechiness    tempo  valence    year  \n",
            "0           0.0290  136.123   0.0396  2000.0  \n",
            "1           0.0407  117.382   0.8030  2000.0  \n",
            "2           0.3420   89.692   0.4790  2000.0  \n",
            "3           0.1270  165.889   0.5480  2000.0  \n",
            "4           0.0291   78.045   0.1130  2000.0  \n",
            "...            ...      ...      ...     ...  \n",
            "41651       0.1430  100.012   0.3060  2020.0  \n",
            "41652       0.0403  128.000   0.2700  2020.0  \n",
            "41653       0.1050  123.700   0.1530  2020.0  \n",
            "41654       0.0385  129.916   0.4720  2020.0  \n",
            "41655       0.0271   80.588   0.3660  2020.0  \n",
            "\n",
            "[41656 rows x 20 columns]\n"
          ]
        }
      ]
    },
    {
      "cell_type": "code",
      "source": [
        "spotify_s=spotify_population[['artists','danceability','name','popularity']]\n",
        "spotify_sample=spotify_s.sample(frac=.4,random_state=2022).reset_index()\n",
        "print(spotify_sample)"
      ],
      "metadata": {
        "colab": {
          "base_uri": "https://localhost:8080/"
        },
        "id": "Bueyv6E9NAkf",
        "outputId": "749175ad-8f4d-4ea2-ec7b-2fa9a18c1d0d"
      },
      "execution_count": 96,
      "outputs": [
        {
          "output_type": "stream",
          "name": "stdout",
          "text": [
            "       index                                            artists  danceability  \\\n",
            "0      27030  ['Dreamville', 'Bas', 'JID', 'Guapdad 4000', '...         0.642   \n",
            "1      17604                      ['La Factoria', 'Eddy Lover']         0.675   \n",
            "2      30694                                    ['Eric Church']         0.385   \n",
            "3      25667                               ['Three Days Grace']         0.409   \n",
            "4      18245                                  ['Robert DeLong']         0.538   \n",
            "...      ...                                                ...           ...   \n",
            "16657  24225                                   ['Dustin Lynch']         0.355   \n",
            "16658   1825                                   ['T3R Elemento']         0.702   \n",
            "16659   3698                                           ['COIN']         0.497   \n",
            "16660   2333                                    ['Hans Zimmer']         0.286   \n",
            "16661  20222                                     ['Kolohe Kai']         0.727   \n",
            "\n",
            "                                                    name  popularity  \n",
            "0      Costa Rica (with Bas & JID feat. Guapdad 4000,...        73.0  \n",
            "1                                              Perdóname        55.0  \n",
            "2                                      Mr. Misunderstood        60.0  \n",
            "3                                           Gone Forever        59.0  \n",
            "4                                          Long Way Down        50.0  \n",
            "...                                                  ...         ...  \n",
            "16657                                 Cowboys and Angels        61.0  \n",
            "16658                              En Menos de Un Minuto        65.0  \n",
            "16659                                                Run        54.0  \n",
            "16660                                Leave No Man Behind        50.0  \n",
            "16661                                Good Morning Hawaii        48.0  \n",
            "\n",
            "[16662 rows x 5 columns]\n"
          ]
        }
      ]
    },
    {
      "cell_type": "markdown",
      "source": [
        "There are 4 steps of creating Bootstrap:\n",
        "\n",
        "\n",
        "1.   Generate a single bootstrap resample from `spotify_sample` with same sample size of `spotify_sample`.\n",
        "2.   Calculate the mean of the danceability column of `spotify_sample` using numpy.\n",
        "3.   Replicate the expression provided 1000 times.\n",
        "4.   Create a bootstrap distribution by drawing a histogram of `mean_danceability_1000`.\n",
        "\n",
        "\n",
        "\n"
      ],
      "metadata": {
        "id": "9-vb3lI2L8HN"
      }
    },
    {
      "cell_type": "code",
      "source": [
        "# Replicate this 1000 times\n",
        "mean_danceability_1000 = []\n",
        "for i in range(1000):\n",
        "\tmean_danceability_1000.append(\n",
        "        np.mean(spotify_sample.sample(frac=1, replace=True)['danceability'])\n",
        "\t)\n",
        "\n",
        "# Draw a histogram of the resample means\n",
        "plt.hist(mean_danceability_1000)\n",
        "plt.show()"
      ],
      "metadata": {
        "colab": {
          "base_uri": "https://localhost:8080/",
          "height": 430
        },
        "id": "zDIRS0VxMwMX",
        "outputId": "44812b13-5af3-4f68-e83c-6670117ca16f"
      },
      "execution_count": 97,
      "outputs": [
        {
          "output_type": "display_data",
          "data": {
            "text/plain": [
              "<Figure size 640x480 with 1 Axes>"
            ],
            "image/png": "[encoded data removed]"
          },
          "metadata": {}
        }
      ]
    },
    {
      "cell_type": "markdown",
      "source": [
        "Bootstrap distribution statistics can be used to estimate population parameters. But can you always rely on them to give an accurate estimate of an unknown population parameter?\n",
        "\n",
        "Should the mean and the standard deviation of the bootstrap distribution both be used to estimate the corresponding values of the population?\n",
        "\n",
        "\n",
        "No, the standard deviation of the bootstrap distribution divided by the square root of the sample size will tend to be near the sample standard deviation, which may not necessarily be very close to the population standard deviation."
      ],
      "metadata": {
        "id": "bwdFYXtpQYrs"
      }
    },
    {
      "cell_type": "markdown",
      "source": [
        "# **Sampling distribution vs. bootstrap distribution**\n",
        "\n",
        "\n",
        "---\n",
        "\n",
        "\n",
        "The sampling distribution and bootstrap distribution are closely linked. In situations where you can repeatedly sample from a population (these occasions are rare), it's helpful to generate both the sampling distribution and the bootstrap distribution, one after the other, to see how they are related.\n",
        "\n",
        "Here, the statistic you are interested in is the mean `popularity` score of the songs.\n",
        "\n",
        "`spotify_population` (the whole dataset) and `spotify_sample_500` (500 randomly sampled rows from `spotify_population`) are available; `pandas` and `numpy` are loaded with their usual aliases.\n",
        "\n",
        "\n",
        "*   Generate a sampling distribution of 2000 replicates.\n",
        "Sample 500 rows of the population without replacement and calculate the mean `popularity`.\n",
        "*   Generate a bootstrap distribution of 2000 replicates.\n",
        "Sample 500 rows of the sample with replacement and calculate the mean `popularity`.\n",
        "\n"
      ],
      "metadata": {
        "id": "ZMx-lRn1Qv94"
      }
    },
    {
      "cell_type": "code",
      "source": [
        "spotify_sample_500=spotify_population.sample(n=500,random_state=2022)\n",
        "print(len(spotify_sample_500))"
      ],
      "metadata": {
        "colab": {
          "base_uri": "https://localhost:8080/"
        },
        "id": "6YTt_pUjUK0F",
        "outputId": "fc43a74c-02a9-4dc8-f05e-d00eb0641e2c"
      },
      "execution_count": 98,
      "outputs": [
        {
          "output_type": "stream",
          "name": "stdout",
          "text": [
            "500\n"
          ]
        }
      ]
    },
    {
      "cell_type": "code",
      "source": [
        "sampling_distribution = []\n",
        "\n",
        "# Generate a sampling distribution of 2000 replicates\n",
        "for i in range(2000):\n",
        "    sampling_distribution.append(\n",
        "    \t# Sample 500 rows and calculate the mean popularity\n",
        "    \tnp.mean(spotify_population.sample(n=500)['popularity'])\n",
        "  )\n",
        "\n",
        "# Print the sampling distribution results\n",
        "print(sampling_distribution[0:5])"
      ],
      "metadata": {
        "colab": {
          "base_uri": "https://localhost:8080/"
        },
        "id": "URkldZo1Qypw",
        "outputId": "eaf7ed6f-1e5f-4abb-a112-fd0936264495"
      },
      "execution_count": 107,
      "outputs": [
        {
          "output_type": "stream",
          "name": "stdout",
          "text": [
            "[55.408, 55.166, 54.274, 55.062, 54.318]\n"
          ]
        }
      ]
    },
    {
      "cell_type": "code",
      "source": [
        "bootstrap_distribution = []\n",
        "\n",
        "# Generate a bootstrap distribution of 2000 replicates\n",
        "for i in range(2000):\n",
        "    bootstrap_distribution.append(\n",
        "    \t# Resample 500 rows and calculate the mean popularity\n",
        "    \tnp.mean(spotify_sample_500.sample(frac=1,replace=True)['popularity'])\n",
        "    )\n",
        "\n",
        "# Print the bootstrap distribution results\n",
        "print(bootstrap_distribution[0:5])"
      ],
      "metadata": {
        "colab": {
          "base_uri": "https://localhost:8080/"
        },
        "id": "M3I6Lf1URKCc",
        "outputId": "07e13661-5448-4f1b-973d-9bb9fc6b21c1"
      },
      "execution_count": 108,
      "outputs": [
        {
          "output_type": "stream",
          "name": "stdout",
          "text": [
            "[55.402, 55.352, 54.644, 55.63, 55.478]\n"
          ]
        }
      ]
    },
    {
      "cell_type": "markdown",
      "source": [
        "# **Compare sampling and bootstrap means**\n",
        "\n",
        "\n",
        "---\n",
        "\n",
        "\n",
        "To make calculation easier, distributions similar to those calculated from the previous exercise have been included, this time using a sample size of 5000.\n",
        "\n",
        "Calculate the mean popularity in 4 ways:\n",
        "1.   Population: from `spotify_population`, take the mean of popularity.\n",
        "2.   Sample: from `spotify_sample`, take the mean of popularity.\n",
        "3.   Sampling distribution: from `sampling_distribution`, take its mean.\n",
        "4.   Bootstrap distribution: from `bootstrap_distribution`, take its mean.\n",
        "\n",
        "\n",
        "\n"
      ],
      "metadata": {
        "id": "R0xHEgZqRjQy"
      }
    },
    {
      "cell_type": "code",
      "source": [
        "# Calculate the population mean popularity\n",
        "pop_mean = np.mean(spotify_population['popularity'])\n",
        "\n",
        "# Calculate the original sample mean popularity\n",
        "samp_mean = np.mean(spotify_sample['popularity'])\n",
        "\n",
        "# Calculate the sampling dist'n estimate of mean popularity\n",
        "samp_distn_mean = np.mean(sampling_distribution)\n",
        "\n",
        "# Calculate the bootstrap dist'n estimate of mean popularity\n",
        "boot_distn_mean = np.mean(bootstrap_distribution)\n",
        "\n",
        "# Print the means\n",
        "print([pop_mean, samp_mean, samp_distn_mean, boot_distn_mean])"
      ],
      "metadata": {
        "colab": {
          "base_uri": "https://localhost:8080/"
        },
        "id": "Sw4grWqPTKwM",
        "outputId": "f97595f5-722c-4684-8a76-a74fa79b3010"
      },
      "execution_count": 101,
      "outputs": [
        {
          "output_type": "stream",
          "name": "stdout",
          "text": [
            "[54.837142308430955, 54.851938542791984, 54.835085, 55.25188800000001]\n"
          ]
        }
      ]
    },
    {
      "cell_type": "markdown",
      "source": [
        "# **Compare sampling and bootstrap standard deviations**\n",
        "\n",
        "\n",
        "---\n",
        "\n",
        "\n",
        "In the same way that you looked at how the sampling distribution and bootstrap distribution could be used to estimate the population mean, you'll now take a look at how they can be used to estimate variation, or more specifically, the standard deviation, in the population.\n",
        "\n",
        "Calculate the standard deviation of popularity in 4 ways.\n",
        "\n",
        "\n",
        "1.   Population: from `spotify_population`, take the standard deviation of popularity.\n",
        "\n",
        "2.   Original sample: from `spotify_sample`, take the standard deviation of popularity.\n",
        "\n",
        "3.   Sampling distribution: from `sampling_distribution`, take its standard deviation and multiply by the square root of the sample size (500).\n",
        "\n",
        "4.   Bootstrap distribution: from `bootstrap_distribution`, take its standard deviation and multiply by the square root of the sample size.\n",
        "\n",
        "\n",
        "\n"
      ],
      "metadata": {
        "id": "O5LpFGu_Tnp7"
      }
    },
    {
      "cell_type": "code",
      "source": [
        "# Calculate the population std dev popularity\n",
        "pop_sd = np.std(spotify_population['popularity'],ddof=0)\n",
        "\n",
        "# Calculate the original sample std dev popularity\n",
        "samp_sd = np.std(spotify_sample['popularity'],ddof=1)\n",
        "\n",
        "# Calculate the sampling dist'n estimate of std dev popularity\n",
        "samp_distn_sd = np.std(sampling_distribution,ddof=1)*np.sqrt(500)\n",
        "\n",
        "# Calculate the bootstrap dist'n estimate of std dev popularity\n",
        "boot_distn_sd = np.std(bootstrap_distribution,ddof=1)*np.sqrt(len(spotify_sample_500))\n",
        "\n",
        "# Print the standard deviations\n",
        "print([pop_sd, samp_sd, samp_distn_sd, boot_distn_sd])"
      ],
      "metadata": {
        "colab": {
          "base_uri": "https://localhost:8080/"
        },
        "id": "0Uv7_04Pl6CP",
        "outputId": "13347af3-e52d-4702-b2d8-8efe83e58057"
      },
      "execution_count": 104,
      "outputs": [
        {
          "output_type": "stream",
          "name": "stdout",
          "text": [
            "[10.880065274257536, 10.858043514379123, 10.831244726676827, 10.485127976440783]\n"
          ]
        }
      ]
    },
    {
      "cell_type": "markdown",
      "source": [
        "The formula for estimating the standard deviation from the sampling distribution and bootstrap distribution is as follows:\n",
        "\n",
        "**Sampling Distribution:**\n",
        "\n",
        "The standard deviation of the sampling distribution, also known as the standard error.\n",
        "Standard Deviation (Sampling Distribution) = Standard Deviation (Sample Statistic) / sqrt(n)\n",
        "where n is the sample size, and Standard Deviation (Sample Statistic) is the standard deviation of the sample statistic (e.g., mean, proportion) obtained from multiple random samples of the same size from a population.\n",
        "\n",
        "**Bootstrap Distribution:**\n",
        "\n",
        "Standard Deviation (Bootstrap Distribution) = Standard Deviation (Bootstrap Sample Statistic) / sqrt(B)\n",
        "where B is the number of bootstrap samples, and Standard Deviation (Bootstrap Sample Statistic) is the standard deviation of the sample statistic obtained from multiple bootstrap samples.\n",
        "\n",
        "Both formulas involve dividing the standard deviation of the sample statistic by the square root of the sample size (n or B). This scaling adjustment accounts for the impact of sample size on the variability of the sample statistic and provides an estimate of the standard deviation of the population parameter."
      ],
      "metadata": {
        "id": "m2qXXSiAl6kX"
      }
    },
    {
      "cell_type": "markdown",
      "source": [
        "# **Calculating confidence intervals**\n",
        "\n",
        "\n",
        "---\n",
        "\n",
        "\n",
        "You have learned about two methods for calculating confidence intervals: the quantile method and the standard error method. The standard error method involves using the inverse cumulative distribution function (inverse CDF) of the normal distribution to calculate confidence intervals. In this exercise, you'll perform these two methods on the Spotify data.\n",
        "\n",
        "\n",
        "*   Generate a 95% confidence interval using the quantile method on the bootstrap distribution, setting the 0.025 quantile as `lower_quant` and the 0.975 quantile as `upper_quant`.\n",
        "\n",
        "*   Generate a 95% confidence interval using the standard error method from the `bootstrap distribution`.Calculate `point_estimate` as the mean of `bootstrap_distribution`, and `standard_error` as the standard deviation of bootstrap_distribution.\n",
        "Calculate `lower_se` as the 0.025 quantile of an inv. CDF from a normal distribution with mean `point_estimate` and standard deviation `standard_error`.\n",
        "Calculate `upper_se` as the 0.975 quantile of that same inv. CDF.\n",
        "\n",
        "\n"
      ],
      "metadata": {
        "id": "1EfB-t4QmdtP"
      }
    },
    {
      "cell_type": "code",
      "source": [
        "# Generate a 95% confidence interval using the quantile method\n",
        "lower_quant = np.quantile(bootstrap_distribution,0.025)\n",
        "upper_quant = np.quantile(bootstrap_distribution,0.975)\n",
        "\n",
        "# Print quantile method confidence interval\n",
        "print((lower_quant, upper_quant))"
      ],
      "metadata": {
        "colab": {
          "base_uri": "https://localhost:8080/"
        },
        "id": "4qX6m7rdno5t",
        "outputId": "eff14e6f-03a4-4510-9057-e629d2dcff6e"
      },
      "execution_count": 105,
      "outputs": [
        {
          "output_type": "stream",
          "name": "stdout",
          "text": [
            "(54.3157, 56.18005)\n"
          ]
        }
      ]
    },
    {
      "cell_type": "code",
      "source": [
        "# Find the mean and std dev of the bootstrap distribution\n",
        "point_estimate = np.mean(bootstrap_distribution)\n",
        "standard_error = np.std(bootstrap_distribution,ddof=1)\n",
        "\n",
        "# Find the lower limit of the confidence interval\n",
        "lower_se =  norm.ppf(0.025, loc=point_estimate, scale=standard_error)\n",
        "\n",
        "# Find the upper limit of the confidence interval\n",
        "upper_se = norm.ppf(0.975, loc=point_estimate, scale=standard_error)\n",
        "\n",
        "# Print standard error method confidence interval\n",
        "print((lower_se, upper_se))"
      ],
      "metadata": {
        "colab": {
          "base_uri": "https://localhost:8080/"
        },
        "id": "f3G5t5VBns0e",
        "outputId": "c43808f5-0544-4dec-be46-9fda62766bca"
      },
      "execution_count": 106,
      "outputs": [
        {
          "output_type": "stream",
          "name": "stdout",
          "text": [
            "(54.33284289878196, 56.170933101218054)\n"
          ]
        }
      ]
    },
    {
      "cell_type": "markdown",
      "source": [
        "The standard error method for calculating the confidence interval assumes that the bootstrap distribution is normal. This assumption should hold if the sample size and number of replicates are sufficiently large."
      ],
      "metadata": {
        "id": "LusjuoYqn1_b"
      }
    }
  ]
}